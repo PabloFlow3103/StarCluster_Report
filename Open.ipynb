{
 "cells": [
  {
   "cell_type": "code",
   "execution_count": 89,
   "metadata": {},
   "outputs": [],
   "source": [
    "%matplotlib inline\n",
    "\n",
    "import numpy as np\n",
    "import matplotlib.pyplot as plt\n",
    "import pandas as pd\n",
    "import astropy\n",
    "from astropy.io import fits\n",
    "from matplotlib import rcParams\n",
    "from astropy.wcs import WCS \n",
    "from pathlib import Path\n",
    "from reproject import reproject_interp\n",
    "import sep\n",
    "#import fitsio\n",
    "import photutils\n",
    "from photutils.aperture import CircularAperture\n",
    "from photutils.aperture import aperture_photometry\n",
    "rcParams['figure.figsize'] = [12., 12.]\n",
    "from scipy.spatial import cKDTree\n",
    "from astropy.coordinates import SkyCoord\n",
    "import astropy.units as u"
   ]
  },
  {
   "cell_type": "code",
   "execution_count": null,
   "metadata": {},
   "outputs": [],
   "source": []
  },
  {
   "cell_type": "code",
   "execution_count": 90,
   "metadata": {},
   "outputs": [
    {
     "name": "stderr",
     "output_type": "stream",
     "text": [
      "WARNING: FITSFixedWarning: RADECSYS= 'FK5 ' / reference system for celestial coordinates \n",
      "the RADECSYS keyword is deprecated, use RADESYSa. [astropy.wcs.wcs]\n",
      "WARNING: FITSFixedWarning: 'datfix' made the change 'Set MJD-BEG to 60048.027143 from DATE-BEG.\n",
      "Set MJD-END to 60048.027143 from DATE-END'. [astropy.wcs.wcs]\n",
      "WARNING: FITSFixedWarning: 'datfix' made the change 'Set MJD-BEG to 60048.027516 from DATE-BEG.\n",
      "Set MJD-END to 60048.027516 from DATE-END'. [astropy.wcs.wcs]\n",
      "WARNING: FITSFixedWarning: 'datfix' made the change 'Set MJD-BEG to 60048.027889 from DATE-BEG.\n",
      "Set MJD-END to 60048.027889 from DATE-END'. [astropy.wcs.wcs]\n",
      "WARNING: FITSFixedWarning: 'datfix' made the change 'Set MJD-BEG to 60048.028262 from DATE-BEG.\n",
      "Set MJD-END to 60048.028262 from DATE-END'. [astropy.wcs.wcs]\n",
      "WARNING: FITSFixedWarning: 'datfix' made the change 'Set MJD-BEG to 60048.028634 from DATE-BEG.\n",
      "Set MJD-END to 60048.028635 from DATE-END'. [astropy.wcs.wcs]\n",
      "WARNING: FITSFixedWarning: 'datfix' made the change 'Set MJD-BEG to 60048.029007 from DATE-BEG.\n",
      "Set MJD-END to 60048.029008 from DATE-END'. [astropy.wcs.wcs]\n",
      "WARNING: FITSFixedWarning: 'datfix' made the change 'Set MJD-BEG to 60048.029380 from DATE-BEG.\n",
      "Set MJD-END to 60048.029380 from DATE-END'. [astropy.wcs.wcs]\n",
      "WARNING: FITSFixedWarning: 'datfix' made the change 'Set MJD-BEG to 60048.029753 from DATE-BEG.\n",
      "Set MJD-END to 60048.029753 from DATE-END'. [astropy.wcs.wcs]\n",
      "WARNING: FITSFixedWarning: 'datfix' made the change 'Set MJD-BEG to 60048.030126 from DATE-BEG.\n",
      "Set MJD-END to 60048.030126 from DATE-END'. [astropy.wcs.wcs]\n",
      "WARNING: FITSFixedWarning: 'datfix' made the change 'Set MJD-BEG to 60048.030499 from DATE-BEG.\n",
      "Set MJD-END to 60048.030499 from DATE-END'. [astropy.wcs.wcs]\n",
      "WARNING: FITSFixedWarning: 'datfix' made the change 'Set MJD-BEG to 60048.044977 from DATE-BEG.\n",
      "Set MJD-END to 60048.045498 from DATE-END'. [astropy.wcs.wcs]\n",
      "WARNING: FITSFixedWarning: 'datfix' made the change 'Set MJD-BEG to 60048.045874 from DATE-BEG.\n",
      "Set MJD-END to 60048.046395 from DATE-END'. [astropy.wcs.wcs]\n",
      "WARNING: FITSFixedWarning: 'datfix' made the change 'Set MJD-BEG to 60048.046772 from DATE-BEG.\n",
      "Set MJD-END to 60048.047292 from DATE-END'. [astropy.wcs.wcs]\n",
      "WARNING: FITSFixedWarning: 'datfix' made the change 'Set MJD-BEG to 60048.047669 from DATE-BEG.\n",
      "Set MJD-END to 60048.048190 from DATE-END'. [astropy.wcs.wcs]\n",
      "WARNING: FITSFixedWarning: 'datfix' made the change 'Set MJD-BEG to 60048.048566 from DATE-BEG.\n",
      "Set MJD-END to 60048.049087 from DATE-END'. [astropy.wcs.wcs]\n",
      "WARNING: FITSFixedWarning: 'datfix' made the change 'Set MJD-BEG to 60048.052760 from DATE-BEG.\n",
      "Set MJD-END to 60048.052876 from DATE-END'. [astropy.wcs.wcs]\n",
      "WARNING: FITSFixedWarning: 'datfix' made the change 'Set MJD-BEG to 60048.053252 from DATE-BEG.\n",
      "Set MJD-END to 60048.053368 from DATE-END'. [astropy.wcs.wcs]\n",
      "WARNING: FITSFixedWarning: 'datfix' made the change 'Set MJD-BEG to 60048.053744 from DATE-BEG.\n",
      "Set MJD-END to 60048.053860 from DATE-END'. [astropy.wcs.wcs]\n",
      "WARNING: FITSFixedWarning: 'datfix' made the change 'Set MJD-BEG to 60048.054237 from DATE-BEG.\n",
      "Set MJD-END to 60048.054352 from DATE-END'. [astropy.wcs.wcs]\n",
      "WARNING: FITSFixedWarning: 'datfix' made the change 'Set MJD-BEG to 60048.054729 from DATE-BEG.\n",
      "Set MJD-END to 60048.054845 from DATE-END'. [astropy.wcs.wcs]\n",
      "WARNING: FITSFixedWarning: 'datfix' made the change 'Set MJD-BEG to 60048.057746 from DATE-BEG.\n",
      "Set MJD-END to 60048.057781 from DATE-END'. [astropy.wcs.wcs]\n",
      "WARNING: FITSFixedWarning: 'datfix' made the change 'Set MJD-BEG to 60048.058157 from DATE-BEG.\n",
      "Set MJD-END to 60048.058192 from DATE-END'. [astropy.wcs.wcs]\n",
      "WARNING: FITSFixedWarning: 'datfix' made the change 'Set MJD-BEG to 60048.058569 from DATE-BEG.\n",
      "Set MJD-END to 60048.058603 from DATE-END'. [astropy.wcs.wcs]\n",
      "WARNING: FITSFixedWarning: 'datfix' made the change 'Set MJD-BEG to 60048.058980 from DATE-BEG.\n",
      "Set MJD-END to 60048.059015 from DATE-END'. [astropy.wcs.wcs]\n",
      "WARNING: FITSFixedWarning: 'datfix' made the change 'Set MJD-BEG to 60048.059391 from DATE-BEG.\n",
      "Set MJD-END to 60048.059426 from DATE-END'. [astropy.wcs.wcs]\n",
      "WARNING: FITSFixedWarning: 'datfix' made the change 'Set MJD-BEG to 60048.161804 from DATE-BEG.\n",
      "Set MJD-END to 60048.164971 from DATE-END'. [astropy.wcs.wcs]\n",
      "WARNING: FITSFixedWarning: 'datfix' made the change 'Set MJD-BEG to 60048.183496 from DATE-BEG.\n",
      "Set MJD-END to 60048.184422 from DATE-END'. [astropy.wcs.wcs]\n",
      "WARNING: FITSFixedWarning: 'datfix' made the change 'Set MJD-BEG to 60048.185257 from DATE-BEG.\n",
      "Set MJD-END to 60048.186183 from DATE-END'. [astropy.wcs.wcs]\n",
      "WARNING: FITSFixedWarning: 'datfix' made the change 'Set MJD-BEG to 60048.186560 from DATE-BEG.\n",
      "Set MJD-END to 60048.187486 from DATE-END'. [astropy.wcs.wcs]\n",
      "WARNING: FITSFixedWarning: 'datfix' made the change 'Set MJD-BEG to 60048.187862 from DATE-BEG.\n",
      "Set MJD-END to 60048.188788 from DATE-END'. [astropy.wcs.wcs]\n",
      "WARNING: FITSFixedWarning: 'datfix' made the change 'Set MJD-BEG to 60048.189164 from DATE-BEG.\n",
      "Set MJD-END to 60048.190090 from DATE-END'. [astropy.wcs.wcs]\n",
      "WARNING: FITSFixedWarning: 'datfix' made the change 'Set MJD-BEG to 60048.193904 from DATE-BEG.\n",
      "Set MJD-END to 60048.194830 from DATE-END'. [astropy.wcs.wcs]\n",
      "WARNING: FITSFixedWarning: 'datfix' made the change 'Set MJD-BEG to 60048.195206 from DATE-BEG.\n",
      "Set MJD-END to 60048.196132 from DATE-END'. [astropy.wcs.wcs]\n",
      "WARNING: FITSFixedWarning: 'datfix' made the change 'Set MJD-BEG to 60048.196508 from DATE-BEG.\n",
      "Set MJD-END to 60048.197434 from DATE-END'. [astropy.wcs.wcs]\n",
      "WARNING: FITSFixedWarning: 'datfix' made the change 'Set MJD-BEG to 60048.197811 from DATE-BEG.\n",
      "Set MJD-END to 60048.198737 from DATE-END'. [astropy.wcs.wcs]\n",
      "WARNING: FITSFixedWarning: 'datfix' made the change 'Set MJD-BEG to 60048.199113 from DATE-BEG.\n",
      "Set MJD-END to 60048.200039 from DATE-END'. [astropy.wcs.wcs]\n",
      "WARNING: FITSFixedWarning: 'datfix' made the change 'Set MJD-BEG to 60048.205719 from DATE-BEG.\n",
      "Set MJD-END to 60048.207108 from DATE-END'. [astropy.wcs.wcs]\n",
      "WARNING: FITSFixedWarning: 'datfix' made the change 'Set MJD-BEG to 60048.207484 from DATE-BEG.\n",
      "Set MJD-END to 60048.208873 from DATE-END'. [astropy.wcs.wcs]\n",
      "WARNING: FITSFixedWarning: 'datfix' made the change 'Set MJD-BEG to 60048.209250 from DATE-BEG.\n",
      "Set MJD-END to 60048.210639 from DATE-END'. [astropy.wcs.wcs]\n",
      "WARNING: FITSFixedWarning: 'datfix' made the change 'Set MJD-BEG to 60048.211015 from DATE-BEG.\n",
      "Set MJD-END to 60048.212404 from DATE-END'. [astropy.wcs.wcs]\n",
      "WARNING: FITSFixedWarning: 'datfix' made the change 'Set MJD-BEG to 60048.212781 from DATE-BEG.\n",
      "Set MJD-END to 60048.214170 from DATE-END'. [astropy.wcs.wcs]\n",
      "WARNING: FITSFixedWarning: 'datfix' made the change 'Set MJD-BEG to 60048.221684 from DATE-BEG.\n",
      "Set MJD-END to 60048.223073 from DATE-END'. [astropy.wcs.wcs]\n",
      "WARNING: FITSFixedWarning: 'datfix' made the change 'Set MJD-BEG to 60048.223450 from DATE-BEG.\n",
      "Set MJD-END to 60048.224839 from DATE-END'. [astropy.wcs.wcs]\n",
      "WARNING: FITSFixedWarning: 'datfix' made the change 'Set MJD-BEG to 60048.225215 from DATE-BEG.\n",
      "Set MJD-END to 60048.226604 from DATE-END'. [astropy.wcs.wcs]\n",
      "WARNING: FITSFixedWarning: 'datfix' made the change 'Set MJD-BEG to 60048.226981 from DATE-BEG.\n",
      "Set MJD-END to 60048.228370 from DATE-END'. [astropy.wcs.wcs]\n",
      "WARNING: FITSFixedWarning: 'datfix' made the change 'Set MJD-BEG to 60048.228746 from DATE-BEG.\n",
      "Set MJD-END to 60048.230135 from DATE-END'. [astropy.wcs.wcs]\n",
      "WARNING: FITSFixedWarning: 'datfix' made the change 'Set MJD-BEG to 60048.234095 from DATE-BEG.\n",
      "Set MJD-END to 60048.234790 from DATE-END'. [astropy.wcs.wcs]\n",
      "WARNING: FITSFixedWarning: 'datfix' made the change 'Set MJD-BEG to 60048.235166 from DATE-BEG.\n",
      "Set MJD-END to 60048.235861 from DATE-END'. [astropy.wcs.wcs]\n",
      "WARNING: FITSFixedWarning: 'datfix' made the change 'Set MJD-BEG to 60048.236237 from DATE-BEG.\n",
      "Set MJD-END to 60048.236932 from DATE-END'. [astropy.wcs.wcs]\n",
      "WARNING: FITSFixedWarning: 'datfix' made the change 'Set MJD-BEG to 60048.237308 from DATE-BEG.\n",
      "Set MJD-END to 60048.238002 from DATE-END'. [astropy.wcs.wcs]\n",
      "WARNING: FITSFixedWarning: 'datfix' made the change 'Set MJD-BEG to 60048.238379 from DATE-BEG.\n",
      "Set MJD-END to 60048.239073 from DATE-END'. [astropy.wcs.wcs]\n",
      "WARNING: FITSFixedWarning: 'datfix' made the change 'Set MJD-BEG to 60048.242364 from DATE-BEG.\n",
      "Set MJD-END to 60048.243058 from DATE-END'. [astropy.wcs.wcs]\n",
      "WARNING: FITSFixedWarning: 'datfix' made the change 'Set MJD-BEG to 60048.243435 from DATE-BEG.\n",
      "Set MJD-END to 60048.244129 from DATE-END'. [astropy.wcs.wcs]\n",
      "WARNING: FITSFixedWarning: 'datfix' made the change 'Set MJD-BEG to 60048.244506 from DATE-BEG.\n",
      "Set MJD-END to 60048.245200 from DATE-END'. [astropy.wcs.wcs]\n",
      "WARNING: FITSFixedWarning: 'datfix' made the change 'Set MJD-BEG to 60048.245577 from DATE-BEG.\n",
      "Set MJD-END to 60048.246271 from DATE-END'. [astropy.wcs.wcs]\n",
      "WARNING: FITSFixedWarning: 'datfix' made the change 'Set MJD-BEG to 60048.246647 from DATE-BEG.\n",
      "Set MJD-END to 60048.247342 from DATE-END'. [astropy.wcs.wcs]\n",
      "WARNING: FITSFixedWarning: 'datfix' made the change 'Set MJD-BEG to 60048.255056 from DATE-BEG.\n",
      "Set MJD-END to 60048.256445 from DATE-END'. [astropy.wcs.wcs]\n"
     ]
    },
    {
     "name": "stderr",
     "output_type": "stream",
     "text": [
      "WARNING: FITSFixedWarning: 'datfix' made the change 'Set MJD-BEG to 60048.256821 from DATE-BEG.\n",
      "Set MJD-END to 60048.258210 from DATE-END'. [astropy.wcs.wcs]\n",
      "WARNING: FITSFixedWarning: 'datfix' made the change 'Set MJD-BEG to 60048.258586 from DATE-BEG.\n",
      "Set MJD-END to 60048.259975 from DATE-END'. [astropy.wcs.wcs]\n",
      "WARNING: FITSFixedWarning: 'datfix' made the change 'Set MJD-BEG to 60048.262186 from DATE-BEG.\n",
      "Set MJD-END to 60048.263574 from DATE-END'. [astropy.wcs.wcs]\n",
      "WARNING: FITSFixedWarning: 'datfix' made the change 'Set MJD-BEG to 60048.263951 from DATE-BEG.\n",
      "Set MJD-END to 60048.265340 from DATE-END'. [astropy.wcs.wcs]\n",
      "WARNING: FITSFixedWarning: 'datfix' made the change 'Set MJD-BEG to 60048.268174 from DATE-BEG.\n",
      "Set MJD-END to 60048.269563 from DATE-END'. [astropy.wcs.wcs]\n",
      "WARNING: FITSFixedWarning: 'datfix' made the change 'Set MJD-BEG to 60048.269939 from DATE-BEG.\n",
      "Set MJD-END to 60048.271328 from DATE-END'. [astropy.wcs.wcs]\n",
      "WARNING: FITSFixedWarning: 'datfix' made the change 'Set MJD-BEG to 60048.271705 from DATE-BEG.\n",
      "Set MJD-END to 60048.273094 from DATE-END'. [astropy.wcs.wcs]\n",
      "WARNING: FITSFixedWarning: 'datfix' made the change 'Set MJD-BEG to 60048.273470 from DATE-BEG.\n",
      "Set MJD-END to 60048.274859 from DATE-END'. [astropy.wcs.wcs]\n",
      "WARNING: FITSFixedWarning: 'datfix' made the change 'Set MJD-BEG to 60048.275235 from DATE-BEG.\n",
      "Set MJD-END to 60048.276624 from DATE-END'. [astropy.wcs.wcs]\n",
      "WARNING: FITSFixedWarning: 'datfix' made the change 'Set MJD-BEG to 60048.278957 from DATE-BEG.\n",
      "Set MJD-END to 60048.279652 from DATE-END'. [astropy.wcs.wcs]\n",
      "WARNING: FITSFixedWarning: 'datfix' made the change 'Set MJD-BEG to 60048.280028 from DATE-BEG.\n",
      "Set MJD-END to 60048.280722 from DATE-END'. [astropy.wcs.wcs]\n",
      "WARNING: FITSFixedWarning: 'datfix' made the change 'Set MJD-BEG to 60048.281099 from DATE-BEG.\n",
      "Set MJD-END to 60048.281793 from DATE-END'. [astropy.wcs.wcs]\n",
      "WARNING: FITSFixedWarning: 'datfix' made the change 'Set MJD-BEG to 60048.282170 from DATE-BEG.\n",
      "Set MJD-END to 60048.282864 from DATE-END'. [astropy.wcs.wcs]\n",
      "WARNING: FITSFixedWarning: 'datfix' made the change 'Set MJD-BEG to 60048.283241 from DATE-BEG.\n",
      "Set MJD-END to 60048.283935 from DATE-END'. [astropy.wcs.wcs]\n",
      "WARNING: FITSFixedWarning: 'datfix' made the change 'Set MJD-BEG to 60048.291299 from DATE-BEG.\n",
      "Set MJD-END to 60048.293035 from DATE-END'. [astropy.wcs.wcs]\n",
      "WARNING: FITSFixedWarning: 'datfix' made the change 'Set MJD-BEG to 60048.293412 from DATE-BEG.\n",
      "Set MJD-END to 60048.295148 from DATE-END'. [astropy.wcs.wcs]\n",
      "WARNING: FITSFixedWarning: 'datfix' made the change 'Set MJD-BEG to 60048.295525 from DATE-BEG.\n",
      "Set MJD-END to 60048.297261 from DATE-END'. [astropy.wcs.wcs]\n",
      "WARNING: FITSFixedWarning: 'datfix' made the change 'Set MJD-BEG to 60048.297637 from DATE-BEG.\n",
      "Set MJD-END to 60048.299373 from DATE-END'. [astropy.wcs.wcs]\n",
      "WARNING: FITSFixedWarning: 'datfix' made the change 'Set MJD-BEG to 60048.299750 from DATE-BEG.\n",
      "Set MJD-END to 60048.301486 from DATE-END'. [astropy.wcs.wcs]\n",
      "WARNING: FITSFixedWarning: 'datfix' made the change 'Set MJD-BEG to 60048.306948 from DATE-BEG.\n",
      "Set MJD-END to 60048.308684 from DATE-END'. [astropy.wcs.wcs]\n",
      "WARNING: FITSFixedWarning: 'datfix' made the change 'Set MJD-BEG to 60048.309060 from DATE-BEG.\n",
      "Set MJD-END to 60048.310797 from DATE-END'. [astropy.wcs.wcs]\n",
      "WARNING: FITSFixedWarning: 'datfix' made the change 'Set MJD-BEG to 60048.311173 from DATE-BEG.\n",
      "Set MJD-END to 60048.312909 from DATE-END'. [astropy.wcs.wcs]\n",
      "WARNING: FITSFixedWarning: 'datfix' made the change 'Set MJD-BEG to 60048.314588 from DATE-BEG.\n",
      "Set MJD-END to 60048.316324 from DATE-END'. [astropy.wcs.wcs]\n",
      "WARNING: FITSFixedWarning: 'datfix' made the change 'Set MJD-BEG to 60048.317027 from DATE-BEG.\n",
      "Set MJD-END to 60048.318764 from DATE-END'. [astropy.wcs.wcs]\n",
      "WARNING: FITSFixedWarning: 'datfix' made the change 'Set MJD-BEG to 60048.321481 from DATE-BEG.\n",
      "Set MJD-END to 60048.323217 from DATE-END'. [astropy.wcs.wcs]\n",
      "WARNING: FITSFixedWarning: 'datfix' made the change 'Set MJD-BEG to 60048.323594 from DATE-BEG.\n",
      "Set MJD-END to 60048.325330 from DATE-END'. [astropy.wcs.wcs]\n",
      "WARNING: FITSFixedWarning: 'datfix' made the change 'Set MJD-BEG to 60048.325706 from DATE-BEG.\n",
      "Set MJD-END to 60048.327442 from DATE-END'. [astropy.wcs.wcs]\n",
      "WARNING: FITSFixedWarning: 'datfix' made the change 'Set MJD-BEG to 60048.327819 from DATE-BEG.\n",
      "Set MJD-END to 60048.329555 from DATE-END'. [astropy.wcs.wcs]\n",
      "WARNING: FITSFixedWarning: 'datfix' made the change 'Set MJD-BEG to 60048.329931 from DATE-BEG.\n",
      "Set MJD-END to 60048.331667 from DATE-END'. [astropy.wcs.wcs]\n",
      "WARNING: FITSFixedWarning: 'datfix' made the change 'Set MJD-BEG to 60048.338889 from DATE-BEG.\n",
      "Set MJD-END to 60048.340625 from DATE-END'. [astropy.wcs.wcs]\n",
      "WARNING: FITSFixedWarning: 'datfix' made the change 'Set MJD-BEG to 60048.341002 from DATE-BEG.\n",
      "Set MJD-END to 60048.342738 from DATE-END'. [astropy.wcs.wcs]\n",
      "WARNING: FITSFixedWarning: 'datfix' made the change 'Set MJD-BEG to 60048.343114 from DATE-BEG.\n",
      "Set MJD-END to 60048.344851 from DATE-END'. [astropy.wcs.wcs]\n",
      "WARNING: FITSFixedWarning: 'datfix' made the change 'Set MJD-BEG to 60048.345227 from DATE-BEG.\n",
      "Set MJD-END to 60048.346963 from DATE-END'. [astropy.wcs.wcs]\n",
      "WARNING: FITSFixedWarning: 'datfix' made the change 'Set MJD-BEG to 60048.347339 from DATE-BEG.\n",
      "Set MJD-END to 60048.349076 from DATE-END'. [astropy.wcs.wcs]\n",
      "WARNING: FITSFixedWarning: 'datfix' made the change 'Set MJD-BEG to 60048.352861 from DATE-BEG.\n",
      "Set MJD-END to 60048.355755 from DATE-END'. [astropy.wcs.wcs]\n",
      "WARNING: FITSFixedWarning: 'datfix' made the change 'Set MJD-BEG to 60048.356131 from DATE-BEG.\n",
      "Set MJD-END to 60048.359025 from DATE-END'. [astropy.wcs.wcs]\n",
      "WARNING: FITSFixedWarning: 'datfix' made the change 'Set MJD-BEG to 60048.359401 from DATE-BEG.\n",
      "Set MJD-END to 60048.362295 from DATE-END'. [astropy.wcs.wcs]\n",
      "WARNING: FITSFixedWarning: 'datfix' made the change 'Set MJD-BEG to 60048.362956 from DATE-BEG.\n",
      "Set MJD-END to 60048.365850 from DATE-END'. [astropy.wcs.wcs]\n",
      "WARNING: FITSFixedWarning: 'datfix' made the change 'Set MJD-BEG to 60048.366226 from DATE-BEG.\n",
      "Set MJD-END to 60048.369120 from DATE-END'. [astropy.wcs.wcs]\n",
      "WARNING: FITSFixedWarning: 'datfix' made the change 'Set MJD-BEG to 60048.369496 from DATE-BEG.\n",
      "Set MJD-END to 60048.372390 from DATE-END'. [astropy.wcs.wcs]\n",
      "WARNING: FITSFixedWarning: 'datfix' made the change 'Set MJD-BEG to 60048.378930 from DATE-BEG.\n",
      "Set MJD-END to 60048.381824 from DATE-END'. [astropy.wcs.wcs]\n",
      "WARNING: FITSFixedWarning: 'datfix' made the change 'Set MJD-BEG to 60048.383171 from DATE-BEG.\n",
      "Set MJD-END to 60048.386064 from DATE-END'. [astropy.wcs.wcs]\n",
      "WARNING: FITSFixedWarning: 'datfix' made the change 'Set MJD-BEG to 60048.386441 from DATE-BEG.\n",
      "Set MJD-END to 60048.389334 from DATE-END'. [astropy.wcs.wcs]\n",
      "WARNING: FITSFixedWarning: 'datfix' made the change 'Set MJD-BEG to 60048.390357 from DATE-BEG.\n",
      "Set MJD-END to 60048.393250 from DATE-END'. [astropy.wcs.wcs]\n",
      "WARNING: FITSFixedWarning: 'datfix' made the change 'Set MJD-BEG to 60048.393627 from DATE-BEG.\n",
      "Set MJD-END to 60048.396520 from DATE-END'. [astropy.wcs.wcs]\n",
      "WARNING: FITSFixedWarning: 'datfix' made the change 'Set MJD-BEG to 60048.396897 from DATE-BEG.\n",
      "Set MJD-END to 60048.399790 from DATE-END'. [astropy.wcs.wcs]\n",
      "WARNING: FITSFixedWarning: 'datfix' made the change 'Set MJD-BEG to 60048.401572 from DATE-BEG.\n",
      "Set MJD-END to 60048.403309 from DATE-END'. [astropy.wcs.wcs]\n",
      "WARNING: FITSFixedWarning: 'datfix' made the change 'Set MJD-BEG to 60048.403685 from DATE-BEG.\n",
      "Set MJD-END to 60048.405421 from DATE-END'. [astropy.wcs.wcs]\n",
      "WARNING: FITSFixedWarning: 'datfix' made the change 'Set MJD-BEG to 60048.405798 from DATE-BEG.\n",
      "Set MJD-END to 60048.407534 from DATE-END'. [astropy.wcs.wcs]\n",
      "WARNING: FITSFixedWarning: 'datfix' made the change 'Set MJD-BEG to 60048.407910 from DATE-BEG.\n",
      "Set MJD-END to 60048.409646 from DATE-END'. [astropy.wcs.wcs]\n",
      "WARNING: FITSFixedWarning: 'datfix' made the change 'Set MJD-BEG to 60048.410023 from DATE-BEG.\n",
      "Set MJD-END to 60048.411759 from DATE-END'. [astropy.wcs.wcs]\n",
      "WARNING: FITSFixedWarning: 'datfix' made the change 'Set MJD-BEG to 60048.445064 from DATE-BEG.\n",
      "Set MJD-END to 60048.446222 from DATE-END'. [astropy.wcs.wcs]\n",
      "WARNING: FITSFixedWarning: 'datfix' made the change 'Set MJD-BEG to 60048.446598 from DATE-BEG.\n",
      "Set MJD-END to 60048.447756 from DATE-END'. [astropy.wcs.wcs]\n",
      "WARNING: FITSFixedWarning: 'datfix' made the change 'Set MJD-BEG to 60048.448132 from DATE-BEG.\n",
      "Set MJD-END to 60048.449290 from DATE-END'. [astropy.wcs.wcs]\n"
     ]
    }
   ],
   "source": [
    "\n",
    "\n",
    "#https://docs.astropy.org/en/stable/io/fits/index.html\n",
    "# https://stackoverflow.com/questions/21583647/reading-headers-from-multiple-fits-file-from-the-same-directory\n",
    "\n",
    "\n",
    "directory = Path(r'C:\\Users\\Pablo\\StarClusters\\Nickel_fits_April13_2023')\n",
    "\n",
    "fits_files = [f for f in directory.iterdir() if f.suffix.lower() == '.fits']\n",
    "image_data = []\n",
    "image_headers = []\n",
    "records=[]\n",
    "\n",
    "for f in fits_files:\n",
    "    with fits.open(f) as hdul:\n",
    "        data = hdul[0].data\n",
    "        header = hdul[0].header\n",
    "        wcs = WCS(header)\n",
    "\n",
    "        image_data.append(data)\n",
    "        image_headers.append(header)\n",
    "        records.append((f, data, header, wcs))"
   ]
  },
  {
   "cell_type": "code",
   "execution_count": null,
   "metadata": {},
   "outputs": [],
   "source": []
  },
  {
   "cell_type": "code",
   "execution_count": 91,
   "metadata": {},
   "outputs": [],
   "source": [
    "#https://stackoverflow.com/questions/21583647/reading-headers-from-multiple-fits-file-from-the-same-directory\n",
    "#https://www.w3schools.com/python/ref_string_startswith.asp\n",
    "\n",
    "bias = [\n",
    "    data for f, data in zip(fits_files, image_data)\n",
    "    if f.stem.startswith('d') and 100 <= int(f.stem.split('d')[-1]) <= 109\n",
    "]\n",
    "\n",
    "domeflatB = [\n",
    "    data for f, data in zip(fits_files, image_data)\n",
    "    if f.stem.startswith('d') and 110 <= int(f.stem.split('d')[-1]) <= 114\n",
    "]\n",
    "\n",
    "domeflatV = [\n",
    "    data for f, data in zip(fits_files, image_data)\n",
    "    if f.stem.startswith('d') and 115 <= int(f.stem.split('d')[-1]) <= 119\n",
    "]\n",
    "\n",
    "domeflatR = [\n",
    "    data for f, data in zip(fits_files, image_data)\n",
    "    if f.stem.startswith('d') and 120 <= int(f.stem.split('d')[-1]) <= 124\n",
    "]\n"
   ]
  },
  {
   "cell_type": "code",
   "execution_count": null,
   "metadata": {},
   "outputs": [],
   "source": []
  },
  {
   "cell_type": "code",
   "execution_count": 92,
   "metadata": {},
   "outputs": [],
   "source": [
    "rawB = [\n",
    "    data for f, data in zip(fits_files, image_data)\n",
    "    if f.stem.startswith('d') and 156 <= int(f.stem.split('d')[-1]) <= 160\n",
    "]\n",
    "rawV = [\n",
    "    data for f, data in zip(fits_files, image_data)\n",
    "    if f.stem.startswith('d') and 161 <= int(f.stem.split('d')[-1]) <= 165\n",
    "]\n",
    "rawR = [\n",
    "    data for f, data in zip(fits_files, image_data)\n",
    "    if f.stem.startswith('d') and 166 <= int(f.stem.split('d')[-1]) <= 170  \n",
    "]"
   ]
  },
  {
   "cell_type": "code",
   "execution_count": 93,
   "metadata": {},
   "outputs": [
    {
     "name": "stdout",
     "output_type": "stream",
     "text": [
      "<class 'list'>\n"
     ]
    }
   ],
   "source": [
    "#data type dictates where the party goes\n",
    "print(type(rawB))"
   ]
  },
  {
   "cell_type": "code",
   "execution_count": 94,
   "metadata": {},
   "outputs": [],
   "source": [
    "master_bias=np.median(np.stack(bias),axis=0)\n",
    "\n",
    "def domecal(filt, bias):\n",
    "    clean = [flat - bias for flat in filt] \n",
    "    master_dome= np.mean(clean, axis=0)\n",
    "    return master_dome/np.mean(master_dome)\n",
    "\n",
    "def scical(sci, flat):\n",
    "    cleaned_images = []\n",
    "    for image in sci:\n",
    "        # Subtract bias\n",
    "        corrected = image - master_bias\n",
    "\n",
    "        # Divide by normalized flat\n",
    "        cleaned = corrected / flat\n",
    "\n",
    "        cleaned_images.append(cleaned)\n",
    "    \n",
    "    return cleaned_images"
   ]
  },
  {
   "cell_type": "code",
   "execution_count": null,
   "metadata": {},
   "outputs": [],
   "source": []
  },
  {
   "cell_type": "code",
   "execution_count": 95,
   "metadata": {},
   "outputs": [],
   "source": [
    "normdomB=domecal(domeflatB,master_bias)\n",
    "normdomV=domecal(domeflatV,master_bias)\n",
    "normdomR=domecal(domeflatR,master_bias)"
   ]
  },
  {
   "cell_type": "code",
   "execution_count": null,
   "metadata": {},
   "outputs": [],
   "source": []
  },
  {
   "cell_type": "code",
   "execution_count": 96,
   "metadata": {},
   "outputs": [
    {
     "name": "stderr",
     "output_type": "stream",
     "text": [
      "<ipython-input-94-dff4735d0e34>:15: RuntimeWarning: divide by zero encountered in divide\n",
      "  cleaned = corrected / flat\n",
      "<ipython-input-94-dff4735d0e34>:15: RuntimeWarning: invalid value encountered in divide\n",
      "  cleaned = corrected / flat\n"
     ]
    }
   ],
   "source": [
    "cleaned_sci_imagesB = scical(rawB, normdomB)\n",
    "cleaned_sci_imagesV = scical(rawV, normdomV)\n",
    "cleaned_sci_imagesR = scical(rawR, normdomR)"
   ]
  },
  {
   "cell_type": "code",
   "execution_count": 97,
   "metadata": {},
   "outputs": [],
   "source": [
    " # Clean science frames with only bias correction\n",
    "# def scical_bias_only(sci, master_bias):\n",
    "#     cleaned_images = []\n",
    "#     for image in sci:\n",
    "#         corrected = (image - master_bias).astype(np.float32)\n",
    "#         cleaned_images.append(corrected)\n",
    "#     return cleaned_images\n",
    "\n"
   ]
  },
  {
   "cell_type": "code",
   "execution_count": 98,
   "metadata": {},
   "outputs": [],
   "source": [
    "# cleaned_sci_imagesB = bias_only_scical(rawB, normdomB)\n",
    "# cleaned_sci_imagesV = bias_only_scical(rawV, normdomV)\n",
    "# cleaned_sci_imagesR = bias_only_scical(rawR, normdomR)"
   ]
  },
  {
   "cell_type": "markdown",
   "metadata": {},
   "source": [
    "# Key the data"
   ]
  },
  {
   "cell_type": "code",
   "execution_count": 99,
   "metadata": {},
   "outputs": [],
   "source": [
    "science_images = {\n",
    "    'B': cleaned_sci_imagesB,\n",
    "    'V': cleaned_sci_imagesV,\n",
    "    'R': cleaned_sci_imagesR\n",
    "}"
   ]
  },
  {
   "cell_type": "code",
   "execution_count": 100,
   "metadata": {},
   "outputs": [],
   "source": [
    "bias_headers = [\n",
    "    header for f, header in zip(fits_files, image_headers)\n",
    "    if f.stem.startswith('d') and 100 <= int(f.stem.split('d')[-1]) <= 109\n",
    "]\n",
    "domeflatB_header  = [\n",
    "    header for f, header in zip(fits_files, image_headers)\n",
    "    if f.stem.startswith('d') and 110 <= int(f.stem.split('d')[-1]) <= 114\n",
    "]\n",
    "domeflatV_header  = [\n",
    "    header for f, header in zip(fits_files, image_headers)\n",
    "    if f.stem.startswith('d') and 115 <= int(f.stem.split('d')[-1]) <= 119\n",
    "]\n",
    "domeflatR_header  = [\n",
    "    header for f, header in zip(fits_files, image_headers)\n",
    "    if f.stem.startswith('d') and 120 <= int(f.stem.split('d')[-1]) <= 124\n",
    "]\n",
    "rawB_header = [\n",
    "    header for f, header in zip(fits_files, image_headers)\n",
    "    if f.stem.startswith('d') and 156 <= int(f.stem.split('d')[-1]) <= 160\n",
    "]\n",
    "rawV_header  = [\n",
    "    header for f, header in zip(fits_files, image_headers)\n",
    "    if f.stem.startswith('d') and 161 <= int(f.stem.split('d')[-1]) <= 165\n",
    "]\n",
    "rawR_header  = [\n",
    "    header for f, header in zip(fits_files, image_headers)\n",
    "    if f.stem.startswith('d') and 166 <= int(f.stem.split('d')[-1]) <= 170\n",
    "]"
   ]
  },
  {
   "cell_type": "code",
   "execution_count": 101,
   "metadata": {},
   "outputs": [],
   "source": [
    "calibB = [data for f, data in zip(fits_files, image_data) if 126 <= int(f.stem.split('d')[-1]) <= 130]\n",
    "calibV = [data for f, data in zip(fits_files, image_data) if 131 <= int(f.stem.split('d')[-1]) <= 135]\n",
    "calibR = [data for f, data in zip(fits_files, image_data) if 136 <= int(f.stem.split('d')[-1]) <= 140]\n",
    "\n",
    "calibB_headers = [header for f, header in zip(fits_files, image_headers) if 126 <= int(f.stem.split('d')[-1]) <= 130]\n",
    "calibV_headers = [header for f, header in zip(fits_files, image_headers) if 131 <= int(f.stem.split('d')[-1]) <= 135]\n",
    "calibR_headers = [header for f, header in zip(fits_files, image_headers) if 136 <= int(f.stem.split('d')[-1]) <= 140]\n",
    "\n",
    "stacked_calibB = np.median(np.stack(calibB), axis=0)\n",
    "stacked_calibV = np.median(np.stack(calibV), axis=0)\n",
    "stacked_calibR = np.median(np.stack(calibR), axis=0)\n"
   ]
  },
  {
   "cell_type": "code",
   "execution_count": 102,
   "metadata": {},
   "outputs": [],
   "source": [
    "# from astropy.wcs import WCS\n",
    "# from astropy.io import fits\n",
    "\n",
    "\n",
    "\n",
    "# # Let's use the first calibration B header as an example\n",
    "# header = calibB_headers[0]  # You can change the index if needed\n",
    "\n",
    "# # Extract the WCS and reference coordinates\n",
    "# w = WCS(header)\n",
    "# ra_center, dec_center = w.wcs.crval  # RA and DEC in degrees\n",
    "\n",
    "# print(f\"Calibration star pointing center:\\nRA = {ra_center:.6f}, DEC = {dec_center:.6f}\")\n"
   ]
  },
  {
   "cell_type": "code",
   "execution_count": 103,
   "metadata": {},
   "outputs": [],
   "source": [
    "# for i, header in enumerate(calibB_headers):\n",
    "#     w = WCS(header)\n",
    "#     ra, dec = w.wcs.crval\n",
    "#     print(f\"Image {i+1}: RA = {ra:.6f}, DEC = {dec:.6f}\")\n"
   ]
  },
  {
   "cell_type": "code",
   "execution_count": 104,
   "metadata": {},
   "outputs": [],
   "source": [
    "# print(calibB_headers)"
   ]
  },
  {
   "cell_type": "code",
   "execution_count": null,
   "metadata": {},
   "outputs": [],
   "source": []
  },
  {
   "cell_type": "code",
   "execution_count": 105,
   "metadata": {},
   "outputs": [
    {
     "name": "stdout",
     "output_type": "stream",
     "text": [
      "SIMPLE  =                    T / NORMAL FITS IMAGE                              BITPIX  =                   16 / DATA PRECISION                                 NAXIS   =                    2 / NUMBER OF IMAGE DIMENSIONS                     NAXIS1  =                 1056 / NUMBER OF COLUMNS                              NAXIS2  =                 1024 / NUMBER OF ROWS                                 CRVAL1U =                 2048 / COLUMN ORIGIN                                  CRVAL2U =                 2048 / ROW ORIGIN                                     CDELT1U =                   -2 / COLUMN CHANGE PER PIXEL                        CDELT2U =                   -2 / ROW CHANGE PER PIXEL                           OBSNUM  =                  100 / OBSERVATION NUMBER                             IDNUM   =                    2 / IMAGE ID                                       UGEOM   =                    0 / UCAM READOUT GEOMETRY                          DGEOM   =                    0 / DESCRAMBLE GEOMETRY                            AMPSROW =                    1 / AMPLIFIERS PER ROW                             AMPSCOL =                    1 / AMPLIFIERS PER COLUMN                          OBSTYPE = 'DARK'               / IMAGE TYPE                                     EXPTIME =                    0 / Exp time (not counting shutter error)          BSCALE  =                    1 / DATA SCALE FACTOR                              BZERO   =                32768 / DATA ZERO POINT                                COMMENT    Real Value = FITS*BSCALE+BZERO                                       PROGRAM = 'NEWCAM'             / New Lick Camera                                VERSION = 'nickel_direct'      / Data acquisition version                       TSEC    =           1681432745 / CLOCK TICK - SECONDS                           TUSEC   =               441025 / CLOCK TICK - MICROSECONDS                      DATE    = '2023-04-14T00:39:05.44' / UT of CCD readout & descramble             DATASEC = '[1:1024,1:1024]'        / IRAF/NOAO-style data section               OUTFILE = 'd' / root name of FITS file                                          FITSFILE= '/data/d100.fits' / path name of FITS file                            COMMENT End of cards hard-coded in fits_cards                                   COMMENT Begin of cards from other times                                         CSYER2  =     0.01666669920087 / systematic error along direction of WCS axis i CSYER1  =     0.01666669920087 / systematic error along direction of WCS axis i CRDER2  =   5.139999848325E-05 / random error along direction of WCS axis i     CRDER1  =   5.139999848325E-05 / random error along direction of WCS axis i     CD2_2   =  -0.0001027239995892 / CTM element i_j from FITS axis j to WCS axis i CD2_1   =   3.946270226152E-06 / CTM element i_j from FITS axis j to WCS axis i CD1_2   =  -3.946270226152E-06 / CTM element i_j from FITS axis j to WCS axis i CD1_1   =  -0.0001027239995892 / CTM element i_j from FITS axis j to WCS axis i CRVAL2  =       39.84674072266 / coord value of WCS axis i at ref pixel         CRVAL1  =       90.22498321533 / coord value of WCS axis i at ref pixel         CRPIX2  =                  512 / reference pixel along FITS axis j              CRPIX1  =                  512 / reference pixel along FITS axis j              CUNIT2  = 'deg               ' / unit of WCS axis i                             CUNIT1  = 'deg               ' / unit of WCS axis i                             EQUINOX =                 2000 / date of celestial reference frame              RADECSYS= 'FK5               ' / reference system for celestial coordinates     CNAME2  = 'Declination       ' / name of WCS axis i                             CNAME1  = 'Right Ascension   ' / name of WCS axis i                             CTYPE2  = 'DEC--TAN          ' / type of WCS axis i                             CTYPE1  = 'RA---TAN          ' / type of WCS axis i                             WCSNAME = 'Celestial coordinates' / name of WCS                                 CRVAL2C =                 2048 / coord value of WCS axis i at ref pixel         CRVAL1C =                 2048 / coord value of WCS axis i at ref pixel         CRVAL2S =       39.84674072266 / coord value of WCS axis i at ref pixel         CRVAL1S =       90.22498321533 / coord value of WCS axis i at ref pixel         CSYER2C =                    0 / systematic error along direction of WCS axis i CSYER1C =                    0 / systematic error along direction of WCS axis i CRDER2C =                    0 / random error along direction of WCS axis i     CRDER1C =                    0 / random error along direction of WCS axis i     CD2_2C  =                   -2 / CTM element i_j from FITS axis j to WCS axis i CD2_1C  =                    0 / CTM element i_j from FITS axis j to WCS axis i CD1_2C  =                    0 / CTM element i_j from FITS axis j to WCS axis i CD1_1C  =                   -2 / CTM element i_j from FITS axis j to WCS axis i CRPIX2C =                  0.5 / reference pixel along FITS axis j              CRPIX1C =                  0.5 / reference pixel along FITS axis j              CUNIT2C = 'CCDpix            ' / unit of WCS axis i                             CUNIT1C = 'CCDpix            ' / unit of WCS axis i                             CNAME2C = 'CCD Y pixel       ' / name of WCS axis i                             CNAME1C = 'CCD X pixel       ' / name of WCS axis i                             CTYPE2C = 'linear            ' / type of WCS axis i                             CTYPE1C = 'linear            ' / type of WCS axis i                             WCSNAMEC= 'CCD pixel coordinates' / name of WCS                                 CSYER2S =     0.01666669920087 / systematic error along direction of WCS axis i CSYER1S =     0.01666669920087 / systematic error along direction of WCS axis i CRDER2S =   5.139999848325E-05 / random error along direction of WCS axis i     CRDER1S =   5.139999848325E-05 / random error along direction of WCS axis i     CD2_2S  =  -0.0001027239995892 / CTM element i_j from FITS axis j to WCS axis i CD2_1S  =   3.946270226152E-06 / CTM element i_j from FITS axis j to WCS axis i CD1_2S  =  -3.946270226152E-06 / CTM element i_j from FITS axis j to WCS axis i CD1_1S  =  -0.0001027239995892 / CTM element i_j from FITS axis j to WCS axis i CRPIX2S =                  512 / reference pixel along FITS axis j              CRPIX1S =                  512 / reference pixel along FITS axis j              CUNIT2S = 'deg               ' / unit of WCS axis i                             CUNIT1S = 'deg               ' / unit of WCS axis i                             EQUINOXS=                 2000 / date of celestial reference frame              RADESYSS= 'FK5               ' / reference system for celestial coordinates     CNAME2S = 'Declination       ' / name of WCS axis i                             CNAME1S = 'Right Ascension   ' / name of WCS axis i                             CTYPE2S = 'DEC--TAN          ' / type of WCS axis i                             CTYPE1S = 'RA---TAN          ' / type of WCS axis i                             WCSNAMES= 'Celestial coordinates' / name of WCS                                 AIRMASS =       1.000428199768 / AIRMASS AT START OF OBSERVATION                OWNRNOTE= 'notyetset         ' / OWNRNOTE for archive data                      OWNRHINT= 'notyetset         ' / OWNRHINT for archive data                      HA      = '-0:02:07.44       ' / HOUR ANGLE                                     DEC     = '39:50:48.6        ' / DECLINATION                                    RA      = '06:01:02.45       ' / RIGHT ASCENSION                                OBSERVER= 'Olivier_Hervet_PHYS135' / OBSERVER NAME                              APERNAM = 'Open              ' / APERTURE POSITION NAME                         INSTRUME= 'Nickel Direct Camera'                                                TUB     =                    0 / TELESCOPE TUB ROTATION                         APERRAW =                 1250 / APERTURE RAW POSITION                          FILTRAW =                 2373 / FILTER RAW POSITION                            FILTORD =                    2 / FILTER ORDINAL POSITION                        APERORD =                    0 / APERTURE ORDINAL POSITION                      FILTNAM = 'V                 ' / FILTER POSITION NAME                           GEOMCODE=                    0 / READOUT GEOMETRY                               DSENSOR = 'Loral 2Kx2K       ' / SENSOR DESCRIPTION                             DNAXIS2 =                 2048 / ROWS IN SENSOR                                 DNAXIS1 =                 2048 / COLUMNS IN SENSOR                              UCAMADC = '4-amp QADC        ' / UCAM ADC BOARDS                                UCAMCDB = 'Old CDB?          ' / UCAM CDB BOARDS                                CAMERAID=                    2 / CAMERA ID NUMBER                               UCAMSPB = '2 DSPB            ' / UCAM SPB BOARDS                                UCAMSOFT= '4.08 052011       ' / UCAM SOFTWARE VERSION                          UCAMTIM = 'New Timing        ' / UCAM TIMING BOARDS                             ERPBIN  =                    5 / PARALLEL BINNING DURING ERASE                  ERASE   =                    3 / NUMBER OF ERASES                               PSKIP   =                    0 / CONTROLS POST-IMAGE SKIPPING                   CSMP    =                    1 / DCS CAP SELECTION                              CSELPRD =                    0 / PREREAD CLOCK SELECTION                        SCLEAN  =                    0 / SERIAL CLEANING CLOCK SELECTION                BINPRD  =                    0 / PREREAD SERIAL BINNING                         BINSCLN =                    0 / BINNING FOR SERIAL CLEAN                       PPRERD  =                    4 / PRE-IMAGE ROWS                                 PFREQ   =                    1 / PARALLEL CLOCK PERIOD                          PADDC   =                    0 / PARALLEL CLOCK CAPACITOR SELECTION             NSTIME  =                   32 / CONTROLS RISING TIME FOR SUBSTRATE             VSUBEX  =                    0 / SUBSTRATE VOLTAGE DURING EXPOSURE              VSUBER  =                    0 / SUBSTRATE VOLTAGE DURING ERASE                 NHBESP  =                   32 / BINNING FOR SPECIAL ERASE                      MERSP   =                    0 / CONTROLS SPECIAL ERASE MODE                    TCPR1   =                    4 / PRE-IMAGE SERIAL PIXELS                        TSPRD   =                   40 / SAMPLE TIME IN 0.1 MICROSECOND UNITS           TSCLEAN =                   40 / SERIAL CLEAN SAMPLE TIME                       SFREQ   =                    2 / SERIAL CLOCK PERIOD                            SADDC   =                    2 / SERIAL CLOCK CAP SELECTION                     REVERASE=                    0 / NUMBER OF REVERSE ERASES                       TCPR2   =                    4 / POST-IMAGE SERIAL PIXELS BEFORE OVERSCAN       DATE-BEG= '2023-04-14T00:39:05.14' / START OF OBSERVATION                       EQUINOXU=       2023.280029297 / EPOCH FOR POCO POSITION IS CURRENT DATE        DATE-END= '2023-04-14T00:39:05.16' / END OF OBSERVATION                         GAIN    =                    1 / DCS GAIN INDEX                                 TEMPCON =       7.699999809265 / CONTROLLER TEMPERATURE                         NCSHIFT =                    0 / NUMBER OF CHARGE SHUFFLES                      RCSHIFT =                    0 / NUMBER OF ROWS IN EACH CHARGE SHUFFLE          ROVER   =                    0 / NUMBER OF OVERSCAN ROWS                        COVER   =                   32 / NUMBER OF OVERSCAN COLUMNS                     MPP     =                    1 / MPP STATE                                      TEMPDET =      -99.80000305176 / EXPOSURE START DETECTOR TEMPERATURE            TEMPDETE=                    0 / EXPOSURE END DETECTOR TEMPERATURE              READ-SPD=                   80 / DCS READ SPEED                                 OBJECT  = 'bias              '                                                  CKSUMOK =                    T / cd: CHECKSUMS MATCH                            CAMCKSUM=                46047 / cd: CAMERA-COMPUTED CHECKSUM                   SFTCKSUM=                46047 / cd: SOFTWARE-COMPUTED CHECKSUM                 COMMENT End of cards from other times                                           END                                                                                                                                                                                                                                                                                                                                                                                                                                                                                                                                                                                                                                                                                                                                                                                                                                                                                                                                                                                                                                                                                                                                                                                                                                                                                                                                                                                                                                                                                                                                                                                                                                                                                                                                                                                                                                                                                                             \n"
     ]
    }
   ],
   "source": [
    "print(image_headers[0])"
   ]
  },
  {
   "cell_type": "code",
   "execution_count": 106,
   "metadata": {},
   "outputs": [],
   "source": [
    "ref_wcs = WCS(rawB_header[0]) # or rawB_header[0]\n",
    "\n",
    "def align_stack(cleaned_images, headers):\n",
    "    aligned = []\n",
    "    for img, hdr in zip(cleaned_images, headers):\n",
    "        array, _ = reproject_interp((img, WCS(hdr)), ref_wcs)\n",
    "        aligned.append(array)\n",
    "    return np.median(np.stack(aligned), axis=0)\n",
    "\n",
    "stacked_B = align_stack(cleaned_sci_imagesB, rawB_header)\n",
    "stacked_V = align_stack(cleaned_sci_imagesV, rawV_header)\n",
    "stacked_R = align_stack(cleaned_sci_imagesR, rawR_header)\n",
    "\n"
   ]
  },
  {
   "cell_type": "code",
   "execution_count": 107,
   "metadata": {},
   "outputs": [],
   "source": [
    "# print(\"B stack:\", \"min:\", np.nanmin(stacked_B), \"max:\", np.nanmax(stacked_B), \"NaNs:\", np.isnan(stacked_B).sum())\n",
    "# print(\"V stack:\", \"min:\", np.nanmin(stacked_V), \"max:\", np.nanmax(stacked_V), \"NaNs:\", np.isnan(stacked_V).sum())\n",
    "# print(\"R stack:\", \"min:\", np.nanmin(stacked_R), \"max:\", np.nanmax(stacked_R), \"NaNs:\", np.isnan(stacked_R).sum())\n"
   ]
  },
  {
   "cell_type": "code",
   "execution_count": 108,
   "metadata": {},
   "outputs": [],
   "source": [
    "# print(\"cleaned_sci_imagesB[0]:\", np.nanmin(cleaned_sci_imagesB[0]), np.nanmax(cleaned_sci_imagesB[0]))\n"
   ]
  },
  {
   "cell_type": "code",
   "execution_count": 109,
   "metadata": {},
   "outputs": [],
   "source": [
    "# img = safe_clean(cleaned_sci_imagesB[0])\n",
    "# reprojected, footprint = reproject_interp((img, WCS(rawB_header[0])), ref_wcs)\n",
    "\n",
    "# print(\"Reprojected image stats:\")\n",
    "# print(\"min:\", np.nanmin(reprojected), \"max:\", np.nanmax(reprojected), \"nan count:\", np.isnan(reprojected).sum())\n",
    "\n",
    "# print(\"Footprint stats (should be >0 where valid):\")\n",
    "# print(\"min:\", np.nanmin(footprint), \"max:\", np.nanmax(footprint))\n"
   ]
  },
  {
   "cell_type": "code",
   "execution_count": 110,
   "metadata": {},
   "outputs": [],
   "source": [
    "# print(\"ref_wcs info:\")\n",
    "# print(ref_wcs)\n",
    "\n",
    "# print(\"target_wcs info:\")\n",
    "# print(WCS(rawB_header[0]))  # Or whichever you test\n"
   ]
  },
  {
   "cell_type": "code",
   "execution_count": 111,
   "metadata": {},
   "outputs": [],
   "source": [
    "# print(len(stacked_B))\n",
    "# print(\"min:\", np.min(stacked_B))\n",
    "# print(\"max:\", np.max(stacked_B))\n",
    "# print(\"mean:\", np.mean(stacked_B))\n",
    "# print(\"nan count:\", np.isnan(stacked_B).sum())\n"
   ]
  },
  {
   "cell_type": "code",
   "execution_count": 112,
   "metadata": {},
   "outputs": [],
   "source": [
    "# plt.imshow(stacked_B, origin='lower', cmap='gray', vmin=np.percentile(stacked_B, 5), vmax=np.percentile(stacked_B, 99))\n",
    "# plt.title(\"Stacked B Image\")\n",
    "# plt.colorbar()\n",
    "# plt.show()\n"
   ]
  },
  {
   "cell_type": "code",
   "execution_count": 113,
   "metadata": {},
   "outputs": [],
   "source": [
    "def photometry(data, thresh=1.0, minarea=10):\n",
    "    data = np.nan_to_num(data.astype(np.float32))\n",
    "    bkg = sep.Background(data)\n",
    "    data_sub = data - bkg.back()\n",
    "    objects = sep.extract(data_sub, thresh=thresh, minarea=minarea)\n",
    "\n",
    "    if len(objects) == 0:\n",
    "        raise ValueError(\"No sources found in image. Try lowering the threshold or checking image quality.\")\n",
    "\n",
    "    x = objects['x'].astype(float)\n",
    "    y = objects['y'].astype(float)\n",
    "    positions = np.column_stack((x, y))\n",
    "\n",
    "    aperture = CircularAperture(positions, r=3.0)\n",
    "    phot_table = aperture_photometry(data, aperture)\n",
    "    phot_table['xcenter'] = x\n",
    "    phot_table['ycenter'] = y\n",
    "\n",
    "    return phot_table, objects\n",
    "\n",
    "\n",
    "phot_tableB, objectsB = photometry(stacked_B)\n",
    "phot_tableV, objectsV = photometry(stacked_V)\n",
    "phot_tableR, objectsR = photometry(stacked_R)\n"
   ]
  },
  {
   "cell_type": "code",
   "execution_count": 114,
   "metadata": {},
   "outputs": [
    {
     "name": "stdout",
     "output_type": "stream",
     "text": [
      "6780\n"
     ]
    }
   ],
   "source": [
    "print(len(phot_tableB))\n"
   ]
  },
  {
   "cell_type": "code",
   "execution_count": 120,
   "metadata": {},
   "outputs": [],
   "source": [
    "from scipy.spatial import cKDTree\n",
    "\n",
    "# Extract coordinates from photometry tables\n",
    "coords_B = np.column_stack((phot_tableB['xcenter'], phot_tableB['ycenter']))\n",
    "coords_V = np.column_stack((phot_tableV['xcenter'], phot_tableV['ycenter']))\n",
    "coords_R = np.column_stack((phot_tableR['xcenter'], phot_tableR['ycenter']))\n",
    "\n",
    "# Build KD-trees\n",
    "tree_V = cKDTree(coords_V)\n",
    "tree_R = cKDTree(coords_R)\n",
    "\n",
    "# Match B to V and B to R\n",
    "max_sep = 3.0  # pixel distance tolerance for matching\n",
    "\n",
    "dist_BV, idx_BV = tree_V.query(coords_B, distance_upper_bound=max_sep)\n",
    "dist_BR, idx_BR = tree_R.query(coords_B, distance_upper_bound=max_sep)\n",
    "\n",
    "# Only keep good matches (where distance is below threshold)\n",
    "valid_BV = dist_BV < max_sep\n",
    "valid_BR = dist_BR < max_sep\n",
    "valid_all = valid_BV & valid_BR\n",
    "\n",
    "# Final matched indices\n",
    "idx_B = np.where(valid_all)[0]\n",
    "idx_V = idx_BV[valid_all]\n",
    "idx_R = idx_BR[valid_all]\n"
   ]
  },
  {
   "cell_type": "code",
   "execution_count": null,
   "metadata": {},
   "outputs": [],
   "source": []
  },
  {
   "cell_type": "code",
   "execution_count": 121,
   "metadata": {},
   "outputs": [],
   "source": [
    "matched_B = phot_tableB[idx_B]\n",
    "matched_V = phot_tableV[idx_V]\n",
    "matched_R = phot_tableR[idx_R]\n",
    "\n",
    "combined_catalog = pd.DataFrame({\n",
    "    'x': matched_B['xcenter'],\n",
    "    'y': matched_B['ycenter'],\n",
    "    'flux_B': matched_B['aperture_sum'],\n",
    "    'flux_V': matched_V['aperture_sum'],\n",
    "    'flux_R': matched_R['aperture_sum']\n",
    "})\n"
   ]
  },
  {
   "cell_type": "code",
   "execution_count": null,
   "metadata": {},
   "outputs": [],
   "source": []
  },
  {
   "cell_type": "code",
   "execution_count": 122,
   "metadata": {},
   "outputs": [],
   "source": [
    "# Exposure times (in seconds)\n",
    "exp_B = 120\n",
    "exp_V = 120\n",
    "exp_R = 60\n",
    "\n",
    "# Convert flux to instrumental magnitudes\n",
    "mag_B = -2.5 * np.log10(combined_catalog['flux_B']) + 2.5 * np.log10(exp_B)\n",
    "mag_V = -2.5 * np.log10(combined_catalog['flux_V']) + 2.5 * np.log10(exp_V)\n",
    "mag_R = -2.5 * np.log10(combined_catalog['flux_R']) + 2.5 * np.log10(exp_R)\n"
   ]
  },
  {
   "cell_type": "code",
   "execution_count": null,
   "metadata": {},
   "outputs": [],
   "source": []
  },
  {
   "cell_type": "code",
   "execution_count": 123,
   "metadata": {},
   "outputs": [],
   "source": [
    "combined_catalog['mag_B'] = mag_B\n",
    "combined_catalog['mag_V'] = mag_V\n",
    "combined_catalog['mag_R'] = mag_R\n",
    "combined_catalog['B-V'] = mag_B - mag_V\n",
    "combined_catalog['V-R'] = mag_V - mag_R\n"
   ]
  },
  {
   "cell_type": "code",
   "execution_count": null,
   "metadata": {},
   "outputs": [],
   "source": []
  },
  {
   "cell_type": "code",
   "execution_count": 124,
   "metadata": {},
   "outputs": [
    {
     "data": {
      "image/png": "[encoded data removed]",
      "text/plain": [
       "<Figure size 576x432 with 1 Axes>"
      ]
     },
     "metadata": {
      "needs_background": "light"
     },
     "output_type": "display_data"
    }
   ],
   "source": [
    "import matplotlib.pyplot as plt\n",
    "\n",
    "plt.figure(figsize=(8, 6))\n",
    "plt.scatter(combined_catalog['B-V'], combined_catalog['mag_V'], s=5, color='black')\n",
    "plt.gca().invert_yaxis()\n",
    "plt.xlabel('B − V (color)')\n",
    "plt.ylabel('V magnitude')\n",
    "plt.title('Color-Magnitude Diagram (CMD)')\n",
    "plt.grid(True)\n",
    "plt.tight_layout()\n",
    "plt.show()\n"
   ]
  },
  {
   "cell_type": "code",
   "execution_count": null,
   "metadata": {},
   "outputs": [],
   "source": []
  },
  {
   "cell_type": "code",
   "execution_count": null,
   "metadata": {},
   "outputs": [],
   "source": []
  },
  {
   "cell_type": "code",
   "execution_count": null,
   "metadata": {},
   "outputs": [],
   "source": [
    "# positive_flux = (\n",
    "#     (combined_catalog['flux_B'] > 0) &\n",
    "#     (combined_catalog['flux_V'] > 0) &\n",
    "#     (combined_catalog['flux_R'] > 0)\n",
    "# )\n",
    "# combined_catalog = combined_catalog[positive_flux]\n",
    "# # "
   ]
  },
  {
   "cell_type": "code",
   "execution_count": null,
   "metadata": {},
   "outputs": [],
   "source": []
  },
  {
   "cell_type": "code",
   "execution_count": null,
   "metadata": {},
   "outputs": [],
   "source": []
  },
  {
   "cell_type": "code",
   "execution_count": null,
   "metadata": {},
   "outputs": [],
   "source": []
  },
  {
   "cell_type": "code",
   "execution_count": 118,
   "metadata": {},
   "outputs": [],
   "source": [
    "# data = stacked_B.astype(np.float32)\n",
    "# data = np.nan_to_num(data)\n",
    "# bkg = sep.Background(data)\n",
    "# data_sub = data - bkg.back()\n",
    "\n",
    "# plt.imshow(data_sub, cmap='gray', origin='lower', vmin=np.percentile(data_sub, 5), vmax=np.percentile(data_sub, 99))\n",
    "# plt.title(\"Background-subtracted stacked_B\")\n",
    "# plt.colorbar()\n",
    "# plt.show()\n"
   ]
  },
  {
   "cell_type": "code",
   "execution_count": null,
   "metadata": {},
   "outputs": [],
   "source": []
  },
  {
   "cell_type": "code",
   "execution_count": null,
   "metadata": {},
   "outputs": [],
   "source": []
  },
  {
   "cell_type": "code",
   "execution_count": null,
   "metadata": {},
   "outputs": [],
   "source": []
  },
  {
   "cell_type": "code",
   "execution_count": null,
   "metadata": {},
   "outputs": [],
   "source": []
  },
  {
   "cell_type": "code",
   "execution_count": null,
   "metadata": {},
   "outputs": [],
   "source": []
  },
  {
   "cell_type": "code",
   "execution_count": null,
   "metadata": {},
   "outputs": [],
   "source": [
    "import pandas as pd\n",
    "import gzip\n",
    "\n",
    "isochrone_file = 'isoc_z019.dat.gz'\n",
    "\n",
    "# Read gzipped isochrone file\n",
    "with gzip.open(isochrone_file, 'rt') as f:\n",
    "    lines = f.readlines()\n",
    "\n",
    "# Extract only the rows containing actual data (skip headers)\n",
    "data_lines = [line for line in lines if not line.startswith('#') and len(line.strip().split()) > 5]\n",
    "\n",
    "# Convert to DataFrame\n",
    "columns = ['Z', 'logAge', 'Mini', 'Mass', 'Teff', 'logL', 'logg', 'Mbol', 'UBmag', 'Bmag', 'Vmag', 'Rmag', 'Imag', 'Jmag', 'Hmag', 'Kmag']\n",
    "iso_data = pd.DataFrame([list(map(float, line.strip().split())) for line in data_lines], columns=columns)\n"
   ]
  },
  {
   "cell_type": "code",
   "execution_count": null,
   "metadata": {},
   "outputs": [],
   "source": []
  },
  {
   "cell_type": "code",
   "execution_count": null,
   "metadata": {},
   "outputs": [],
   "source": []
  },
  {
   "cell_type": "code",
   "execution_count": null,
   "metadata": {},
   "outputs": [],
   "source": []
  },
  {
   "cell_type": "code",
   "execution_count": null,
   "metadata": {},
   "outputs": [],
   "source": []
  },
  {
   "cell_type": "code",
   "execution_count": null,
   "metadata": {},
   "outputs": [],
   "source": []
  },
  {
   "cell_type": "code",
   "execution_count": null,
   "metadata": {},
   "outputs": [],
   "source": []
  },
  {
   "cell_type": "code",
   "execution_count": null,
   "metadata": {},
   "outputs": [],
   "source": []
  }
 ],
 "metadata": {
  "kernelspec": {
   "display_name": "Python 3",
   "language": "python",
   "name": "python3"
  },
  "language_info": {
   "codemirror_mode": {
    "name": "ipython",
    "version": 3
   },
   "file_extension": ".py",
   "mimetype": "text/x-python",
   "name": "python",
   "nbconvert_exporter": "python",
   "pygments_lexer": "ipython3",
   "version": "3.9.0"
  }
 },
 "nbformat": 4,
 "nbformat_minor": 4
}
