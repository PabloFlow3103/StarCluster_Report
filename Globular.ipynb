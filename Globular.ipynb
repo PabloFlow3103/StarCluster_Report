{
 "cells": [
  {
   "cell_type": "code",
   "execution_count": 24,
   "metadata": {},
   "outputs": [],
   "source": [
    "%matplotlib inline\n",
    "\n",
    "import numpy as np\n",
    "import matplotlib.pyplot as plt\n",
    "import pandas as pd\n",
    "import astropy\n",
    "from astropy.io import fits\n",
    "from matplotlib import rcParams\n",
    "from astropy.wcs import WCS \n",
    "from pathlib import Path\n",
    "from reproject import reproject_interp\n",
    "import sep\n",
    "#import fitsio\n",
    "import photutils\n",
    "from photutils.aperture import CircularAperture\n",
    "from photutils.aperture import aperture_photometry\n",
    "rcParams['figure.figsize'] = [12., 12.]\n",
    "from scipy.spatial import cKDTree\n",
    "from astropy.coordinates import SkyCoord\n",
    "import astropy.units as u"
   ]
  },
  {
   "cell_type": "code",
   "execution_count": null,
   "metadata": {},
   "outputs": [],
   "source": []
  },
  {
   "cell_type": "code",
   "execution_count": 25,
   "metadata": {},
   "outputs": [
    {
     "name": "stderr",
     "output_type": "stream",
     "text": [
      "WARNING: FITSFixedWarning: RADECSYS= 'FK5 ' / reference system for celestial coordinates \n",
      "the RADECSYS keyword is deprecated, use RADESYSa. [astropy.wcs.wcs]\n",
      "WARNING: FITSFixedWarning: 'datfix' made the change 'Set MJD-BEG to 60063.047917 from DATE-BEG.\n",
      "Set MJD-END to 60063.047917 from DATE-END'. [astropy.wcs.wcs]\n",
      "WARNING: FITSFixedWarning: 'datfix' made the change 'Set MJD-BEG to 60063.048290 from DATE-BEG.\n",
      "Set MJD-END to 60063.048290 from DATE-END'. [astropy.wcs.wcs]\n",
      "WARNING: FITSFixedWarning: 'datfix' made the change 'Set MJD-BEG to 60063.048662 from DATE-BEG.\n",
      "Set MJD-END to 60063.048663 from DATE-END'. [astropy.wcs.wcs]\n",
      "WARNING: FITSFixedWarning: 'datfix' made the change 'Set MJD-BEG to 60063.049035 from DATE-BEG.\n",
      "Set MJD-END to 60063.049036 from DATE-END'. [astropy.wcs.wcs]\n",
      "WARNING: FITSFixedWarning: 'datfix' made the change 'Set MJD-BEG to 60063.049408 from DATE-BEG.\n",
      "Set MJD-END to 60063.049408 from DATE-END'. [astropy.wcs.wcs]\n",
      "WARNING: FITSFixedWarning: 'datfix' made the change 'Set MJD-BEG to 60063.049781 from DATE-BEG.\n",
      "Set MJD-END to 60063.049781 from DATE-END'. [astropy.wcs.wcs]\n",
      "WARNING: FITSFixedWarning: 'datfix' made the change 'Set MJD-BEG to 60063.050154 from DATE-BEG.\n",
      "Set MJD-END to 60063.050154 from DATE-END'. [astropy.wcs.wcs]\n",
      "WARNING: FITSFixedWarning: 'datfix' made the change 'Set MJD-BEG to 60063.050527 from DATE-BEG.\n",
      "Set MJD-END to 60063.050527 from DATE-END'. [astropy.wcs.wcs]\n",
      "WARNING: FITSFixedWarning: 'datfix' made the change 'Set MJD-BEG to 60063.050900 from DATE-BEG.\n",
      "Set MJD-END to 60063.050900 from DATE-END'. [astropy.wcs.wcs]\n",
      "WARNING: FITSFixedWarning: 'datfix' made the change 'Set MJD-BEG to 60063.051273 from DATE-BEG.\n",
      "Set MJD-END to 60063.051273 from DATE-END'. [astropy.wcs.wcs]\n",
      "WARNING: FITSFixedWarning: 'datfix' made the change 'Set MJD-BEG to 60063.061799 from DATE-BEG.\n",
      "Set MJD-END to 60063.061834 from DATE-END'. [astropy.wcs.wcs]\n",
      "WARNING: FITSFixedWarning: 'datfix' made the change 'Set MJD-BEG to 60063.062210 from DATE-BEG.\n",
      "Set MJD-END to 60063.062245 from DATE-END'. [astropy.wcs.wcs]\n",
      "WARNING: FITSFixedWarning: 'datfix' made the change 'Set MJD-BEG to 60063.062622 from DATE-BEG.\n",
      "Set MJD-END to 60063.062656 from DATE-END'. [astropy.wcs.wcs]\n",
      "WARNING: FITSFixedWarning: 'datfix' made the change 'Set MJD-BEG to 60063.063033 from DATE-BEG.\n",
      "Set MJD-END to 60063.063068 from DATE-END'. [astropy.wcs.wcs]\n",
      "WARNING: FITSFixedWarning: 'datfix' made the change 'Set MJD-BEG to 60063.063444 from DATE-BEG.\n",
      "Set MJD-END to 60063.063479 from DATE-END'. [astropy.wcs.wcs]\n",
      "WARNING: FITSFixedWarning: 'datfix' made the change 'Set MJD-BEG to 60063.067101 from DATE-BEG.\n",
      "Set MJD-END to 60063.067216 from DATE-END'. [astropy.wcs.wcs]\n",
      "WARNING: FITSFixedWarning: 'datfix' made the change 'Set MJD-BEG to 60063.067593 from DATE-BEG.\n",
      "Set MJD-END to 60063.067708 from DATE-END'. [astropy.wcs.wcs]\n",
      "WARNING: FITSFixedWarning: 'datfix' made the change 'Set MJD-BEG to 60063.068085 from DATE-BEG.\n",
      "Set MJD-END to 60063.068201 from DATE-END'. [astropy.wcs.wcs]\n",
      "WARNING: FITSFixedWarning: 'datfix' made the change 'Set MJD-BEG to 60063.068577 from DATE-BEG.\n",
      "Set MJD-END to 60063.068693 from DATE-END'. [astropy.wcs.wcs]\n",
      "WARNING: FITSFixedWarning: 'datfix' made the change 'Set MJD-BEG to 60063.069069 from DATE-BEG.\n",
      "Set MJD-END to 60063.069185 from DATE-END'. [astropy.wcs.wcs]\n",
      "WARNING: FITSFixedWarning: 'datfix' made the change 'Set MJD-BEG to 60063.072283 from DATE-BEG.\n",
      "Set MJD-END to 60063.072977 from DATE-END'. [astropy.wcs.wcs]\n",
      "WARNING: FITSFixedWarning: 'datfix' made the change 'Set MJD-BEG to 60063.073354 from DATE-BEG.\n",
      "Set MJD-END to 60063.074048 from DATE-END'. [astropy.wcs.wcs]\n",
      "WARNING: FITSFixedWarning: 'datfix' made the change 'Set MJD-BEG to 60063.074425 from DATE-BEG.\n",
      "Set MJD-END to 60063.075119 from DATE-END'. [astropy.wcs.wcs]\n",
      "WARNING: FITSFixedWarning: 'datfix' made the change 'Set MJD-BEG to 60063.075495 from DATE-BEG.\n",
      "Set MJD-END to 60063.076190 from DATE-END'. [astropy.wcs.wcs]\n",
      "WARNING: FITSFixedWarning: 'datfix' made the change 'Set MJD-BEG to 60063.076566 from DATE-BEG.\n",
      "Set MJD-END to 60063.077261 from DATE-END'. [astropy.wcs.wcs]\n",
      "WARNING: FITSFixedWarning: 'datfix' made the change 'Set MJD-BEG to 60063.130996 from DATE-BEG.\n",
      "Set MJD-END to 60063.131031 from DATE-END'. [astropy.wcs.wcs]\n",
      "WARNING: FITSFixedWarning: 'datfix' made the change 'Set MJD-BEG to 60063.131434 from DATE-BEG.\n",
      "Set MJD-END to 60063.131469 from DATE-END'. [astropy.wcs.wcs]\n",
      "WARNING: FITSFixedWarning: 'datfix' made the change 'Set MJD-BEG to 60063.131896 from DATE-BEG.\n",
      "Set MJD-END to 60063.131930 from DATE-END'. [astropy.wcs.wcs]\n",
      "WARNING: FITSFixedWarning: 'datfix' made the change 'Set MJD-BEG to 60063.132343 from DATE-BEG.\n",
      "Set MJD-END to 60063.132378 from DATE-END'. [astropy.wcs.wcs]\n",
      "WARNING: FITSFixedWarning: 'datfix' made the change 'Set MJD-BEG to 60063.132787 from DATE-BEG.\n",
      "Set MJD-END to 60063.132822 from DATE-END'. [astropy.wcs.wcs]\n",
      "WARNING: FITSFixedWarning: 'datfix' made the change 'Set MJD-BEG to 60063.133954 from DATE-BEG.\n",
      "Set MJD-END to 60063.134023 from DATE-END'. [astropy.wcs.wcs]\n",
      "WARNING: FITSFixedWarning: 'datfix' made the change 'Set MJD-BEG to 60063.134452 from DATE-BEG.\n",
      "Set MJD-END to 60063.134544 from DATE-END'. [astropy.wcs.wcs]\n",
      "WARNING: FITSFixedWarning: 'datfix' made the change 'Set MJD-BEG to 60063.134975 from DATE-BEG.\n",
      "Set MJD-END to 60063.135091 from DATE-END'. [astropy.wcs.wcs]\n",
      "WARNING: FITSFixedWarning: 'datfix' made the change 'Set MJD-BEG to 60063.135517 from DATE-BEG.\n",
      "Set MJD-END to 60063.135668 from DATE-END'. [astropy.wcs.wcs]\n",
      "WARNING: FITSFixedWarning: 'datfix' made the change 'Set MJD-BEG to 60063.136118 from DATE-BEG.\n",
      "Set MJD-END to 60063.136268 from DATE-END'. [astropy.wcs.wcs]\n",
      "WARNING: FITSFixedWarning: 'datfix' made the change 'Set MJD-BEG to 60063.137457 from DATE-BEG.\n",
      "Set MJD-END to 60063.137688 from DATE-END'. [astropy.wcs.wcs]\n",
      "WARNING: FITSFixedWarning: 'datfix' made the change 'Set MJD-BEG to 60063.138148 from DATE-BEG.\n",
      "Set MJD-END to 60063.138414 from DATE-END'. [astropy.wcs.wcs]\n",
      "WARNING: FITSFixedWarning: 'datfix' made the change 'Set MJD-BEG to 60063.139011 from DATE-BEG.\n",
      "Set MJD-END to 60063.139278 from DATE-END'. [astropy.wcs.wcs]\n",
      "WARNING: FITSFixedWarning: 'datfix' made the change 'Set MJD-BEG to 60063.139692 from DATE-BEG.\n",
      "Set MJD-END to 60063.140039 from DATE-END'. [astropy.wcs.wcs]\n",
      "WARNING: FITSFixedWarning: 'datfix' made the change 'Set MJD-BEG to 60063.140586 from DATE-BEG.\n",
      "Set MJD-END to 60063.140991 from DATE-END'. [astropy.wcs.wcs]\n",
      "WARNING: FITSFixedWarning: 'datfix' made the change 'Set MJD-BEG to 60063.141427 from DATE-BEG.\n",
      "Set MJD-END to 60063.141890 from DATE-END'. [astropy.wcs.wcs]\n",
      "WARNING: FITSFixedWarning: 'datfix' made the change 'Set MJD-BEG to 60063.171671 from DATE-BEG.\n",
      "Set MJD-END to 60063.171845 from DATE-END'. [astropy.wcs.wcs]\n",
      "WARNING: FITSFixedWarning: 'datfix' made the change 'Set MJD-BEG to 60063.172221 from DATE-BEG.\n",
      "Set MJD-END to 60063.172395 from DATE-END'. [astropy.wcs.wcs]\n",
      "WARNING: FITSFixedWarning: 'datfix' made the change 'Set MJD-BEG to 60063.172771 from DATE-BEG.\n",
      "Set MJD-END to 60063.172945 from DATE-END'. [astropy.wcs.wcs]\n",
      "WARNING: FITSFixedWarning: 'datfix' made the change 'Set MJD-BEG to 60063.173322 from DATE-BEG.\n",
      "Set MJD-END to 60063.173495 from DATE-END'. [astropy.wcs.wcs]\n",
      "WARNING: FITSFixedWarning: 'datfix' made the change 'Set MJD-BEG to 60063.173872 from DATE-BEG.\n",
      "Set MJD-END to 60063.174045 from DATE-END'. [astropy.wcs.wcs]\n",
      "WARNING: FITSFixedWarning: 'datfix' made the change 'Set MJD-BEG to 60063.200824 from DATE-BEG.\n",
      "Set MJD-END to 60063.205454 from DATE-END'. [astropy.wcs.wcs]\n",
      "WARNING: FITSFixedWarning: 'datfix' made the change 'Set MJD-BEG to 60063.205830 from DATE-BEG.\n",
      "Set MJD-END to 60063.210460 from DATE-END'. [astropy.wcs.wcs]\n",
      "WARNING: FITSFixedWarning: 'datfix' made the change 'Set MJD-BEG to 60063.210836 from DATE-BEG.\n",
      "Set MJD-END to 60063.215466 from DATE-END'. [astropy.wcs.wcs]\n",
      "WARNING: FITSFixedWarning: 'datfix' made the change 'Set MJD-BEG to 60063.217849 from DATE-BEG.\n",
      "Set MJD-END to 60063.222479 from DATE-END'. [astropy.wcs.wcs]\n",
      "WARNING: FITSFixedWarning: 'datfix' made the change 'Set MJD-BEG to 60063.222855 from DATE-BEG.\n",
      "Set MJD-END to 60063.227485 from DATE-END'. [astropy.wcs.wcs]\n",
      "WARNING: FITSFixedWarning: 'datfix' made the change 'Set MJD-BEG to 60063.227861 from DATE-BEG.\n",
      "Set MJD-END to 60063.232491 from DATE-END'. [astropy.wcs.wcs]\n",
      "WARNING: FITSFixedWarning: 'datfix' made the change 'Set MJD-BEG to 60063.233733 from DATE-BEG.\n",
      "Set MJD-END to 60063.236047 from DATE-END'. [astropy.wcs.wcs]\n",
      "WARNING: FITSFixedWarning: 'datfix' made the change 'Set MJD-BEG to 60063.236424 from DATE-BEG.\n",
      "Set MJD-END to 60063.238739 from DATE-END'. [astropy.wcs.wcs]\n",
      "WARNING: FITSFixedWarning: 'datfix' made the change 'Set MJD-BEG to 60063.239115 from DATE-BEG.\n",
      "Set MJD-END to 60063.241430 from DATE-END'. [astropy.wcs.wcs]\n",
      "WARNING: FITSFixedWarning: 'datfix' made the change 'Set MJD-BEG to 60063.242551 from DATE-BEG.\n",
      "Set MJD-END to 60063.244866 from DATE-END'. [astropy.wcs.wcs]\n",
      "WARNING: FITSFixedWarning: 'datfix' made the change 'Set MJD-BEG to 60063.245242 from DATE-BEG.\n",
      "Set MJD-END to 60063.247557 from DATE-END'. [astropy.wcs.wcs]\n",
      "WARNING: FITSFixedWarning: 'datfix' made the change 'Set MJD-BEG to 60063.247933 from DATE-BEG.\n",
      "Set MJD-END to 60063.250248 from DATE-END'. [astropy.wcs.wcs]\n",
      "WARNING: FITSFixedWarning: 'datfix' made the change 'Set MJD-BEG to 60063.263245 from DATE-BEG.\n",
      "Set MJD-END to 60063.267874 from DATE-END'. [astropy.wcs.wcs]\n",
      "WARNING: FITSFixedWarning: 'datfix' made the change 'Set MJD-BEG to 60063.268251 from DATE-BEG.\n",
      "Set MJD-END to 60063.272881 from DATE-END'. [astropy.wcs.wcs]\n",
      "WARNING: FITSFixedWarning: 'datfix' made the change 'Set MJD-BEG to 60063.273257 from DATE-BEG.\n",
      "Set MJD-END to 60063.277887 from DATE-END'. [astropy.wcs.wcs]\n",
      "WARNING: FITSFixedWarning: 'datfix' made the change 'Set MJD-BEG to 60063.278805 from DATE-BEG.\n",
      "Set MJD-END to 60063.283435 from DATE-END'. [astropy.wcs.wcs]\n",
      "WARNING: FITSFixedWarning: 'datfix' made the change 'Set MJD-BEG to 60063.283812 from DATE-BEG.\n",
      "Set MJD-END to 60063.288441 from DATE-END'. [astropy.wcs.wcs]\n",
      "WARNING: FITSFixedWarning: 'datfix' made the change 'Set MJD-BEG to 60063.288818 from DATE-BEG.\n",
      "Set MJD-END to 60063.293447 from DATE-END'. [astropy.wcs.wcs]\n",
      "WARNING: FITSFixedWarning: 'datfix' made the change 'Set MJD-BEG to 60063.294124 from DATE-BEG.\n",
      "Set MJD-END to 60063.296439 from DATE-END'. [astropy.wcs.wcs]\n",
      "WARNING: FITSFixedWarning: 'datfix' made the change 'Set MJD-BEG to 60063.296816 from DATE-BEG.\n",
      "Set MJD-END to 60063.299130 from DATE-END'. [astropy.wcs.wcs]\n",
      "WARNING: FITSFixedWarning: 'datfix' made the change 'Set MJD-BEG to 60063.299507 from DATE-BEG.\n",
      "Set MJD-END to 60063.301822 from DATE-END'. [astropy.wcs.wcs]\n",
      "WARNING: FITSFixedWarning: 'datfix' made the change 'Set MJD-BEG to 60063.306687 from DATE-BEG.\n",
      "Set MJD-END to 60063.307382 from DATE-END'. [astropy.wcs.wcs]\n",
      "WARNING: FITSFixedWarning: 'datfix' made the change 'Set MJD-BEG to 60063.308633 from DATE-BEG.\n",
      "Set MJD-END to 60063.308980 from DATE-END'. [astropy.wcs.wcs]\n",
      "WARNING: FITSFixedWarning: 'datfix' made the change 'Set MJD-BEG to 60063.309356 from DATE-BEG.\n",
      "Set MJD-END to 60063.309703 from DATE-END'. [astropy.wcs.wcs]\n",
      "WARNING: FITSFixedWarning: 'datfix' made the change 'Set MJD-BEG to 60063.310080 from DATE-BEG.\n",
      "Set MJD-END to 60063.310427 from DATE-END'. [astropy.wcs.wcs]\n",
      "WARNING: FITSFixedWarning: 'datfix' made the change 'Set MJD-BEG to 60063.311526 from DATE-BEG.\n",
      "Set MJD-END to 60063.311700 from DATE-END'. [astropy.wcs.wcs]\n",
      "WARNING: FITSFixedWarning: 'datfix' made the change 'Set MJD-BEG to 60063.312077 from DATE-BEG.\n",
      "Set MJD-END to 60063.312250 from DATE-END'. [astropy.wcs.wcs]\n",
      "WARNING: FITSFixedWarning: 'datfix' made the change 'Set MJD-BEG to 60063.312627 from DATE-BEG.\n",
      "Set MJD-END to 60063.312800 from DATE-END'. [astropy.wcs.wcs]\n",
      "WARNING: FITSFixedWarning: 'datfix' made the change 'Set MJD-BEG to 60063.313177 from DATE-BEG.\n",
      "Set MJD-END to 60063.313351 from DATE-END'. [astropy.wcs.wcs]\n",
      "WARNING: FITSFixedWarning: 'datfix' made the change 'Set MJD-BEG to 60063.313727 from DATE-BEG.\n",
      "Set MJD-END to 60063.313901 from DATE-END'. [astropy.wcs.wcs]\n",
      "WARNING: FITSFixedWarning: 'datfix' made the change 'Set MJD-BEG to 60063.315678 from DATE-BEG.\n",
      "Set MJD-END to 60063.315852 from DATE-END'. [astropy.wcs.wcs]\n",
      "WARNING: FITSFixedWarning: 'datfix' made the change 'Set MJD-BEG to 60063.316228 from DATE-BEG.\n",
      "Set MJD-END to 60063.316402 from DATE-END'. [astropy.wcs.wcs]\n",
      "WARNING: FITSFixedWarning: 'datfix' made the change 'Set MJD-BEG to 60063.316778 from DATE-BEG.\n",
      "Set MJD-END to 60063.316952 from DATE-END'. [astropy.wcs.wcs]\n",
      "WARNING: FITSFixedWarning: 'datfix' made the change 'Set MJD-BEG to 60063.317328 from DATE-BEG.\n",
      "Set MJD-END to 60063.317502 from DATE-END'. [astropy.wcs.wcs]\n",
      "WARNING: FITSFixedWarning: 'datfix' made the change 'Set MJD-BEG to 60063.317878 from DATE-BEG.\n",
      "Set MJD-END to 60063.318052 from DATE-END'. [astropy.wcs.wcs]\n",
      "WARNING: FITSFixedWarning: 'datfix' made the change 'Set MJD-BEG to 60063.345917 from DATE-BEG.\n",
      "Set MJD-END to 60063.349389 from DATE-END'. [astropy.wcs.wcs]\n",
      "WARNING: FITSFixedWarning: 'datfix' made the change 'Set MJD-BEG to 60063.351196 from DATE-BEG.\n",
      "Set MJD-END to 60063.352353 from DATE-END'. [astropy.wcs.wcs]\n",
      "WARNING: FITSFixedWarning: 'datfix' made the change 'Set MJD-BEG to 60063.352730 from DATE-BEG.\n",
      "Set MJD-END to 60063.353887 from DATE-END'. [astropy.wcs.wcs]\n",
      "WARNING: FITSFixedWarning: 'datfix' made the change 'Set MJD-BEG to 60063.354744 from DATE-BEG.\n",
      "Set MJD-END to 60063.355902 from DATE-END'. [astropy.wcs.wcs]\n",
      "WARNING: FITSFixedWarning: 'datfix' made the change 'Set MJD-BEG to 60063.356278 from DATE-BEG.\n",
      "Set MJD-END to 60063.357435 from DATE-END'. [astropy.wcs.wcs]\n",
      "WARNING: FITSFixedWarning: 'datfix' made the change 'Set MJD-BEG to 60063.357812 from DATE-BEG.\n",
      "Set MJD-END to 60063.358969 from DATE-END'. [astropy.wcs.wcs]\n",
      "WARNING: FITSFixedWarning: 'datfix' made the change 'Set MJD-BEG to 60063.361339 from DATE-BEG.\n",
      "Set MJD-END to 60063.362149 from DATE-END'. [astropy.wcs.wcs]\n",
      "WARNING: FITSFixedWarning: 'datfix' made the change 'Set MJD-BEG to 60063.362526 from DATE-BEG.\n",
      "Set MJD-END to 60063.363336 from DATE-END'. [astropy.wcs.wcs]\n",
      "WARNING: FITSFixedWarning: 'datfix' made the change 'Set MJD-BEG to 60063.363712 from DATE-BEG.\n",
      "Set MJD-END to 60063.364523 from DATE-END'. [astropy.wcs.wcs]\n",
      "WARNING: FITSFixedWarning: 'datfix' made the change 'Set MJD-BEG to 60063.374009 from DATE-BEG.\n",
      "Set MJD-END to 60063.376324 from DATE-END'. [astropy.wcs.wcs]\n",
      "WARNING: FITSFixedWarning: 'datfix' made the change 'Set MJD-BEG to 60063.376701 from DATE-BEG.\n",
      "Set MJD-END to 60063.379016 from DATE-END'. [astropy.wcs.wcs]\n",
      "WARNING: FITSFixedWarning: 'datfix' made the change 'Set MJD-BEG to 60063.379392 from DATE-BEG.\n",
      "Set MJD-END to 60063.381707 from DATE-END'. [astropy.wcs.wcs]\n",
      "WARNING: FITSFixedWarning: 'datfix' made the change 'Set MJD-BEG to 60063.384964 from DATE-BEG.\n",
      "Set MJD-END to 60063.387279 from DATE-END'. [astropy.wcs.wcs]\n",
      "WARNING: FITSFixedWarning: 'datfix' made the change 'Set MJD-BEG to 60063.387656 from DATE-BEG.\n",
      "Set MJD-END to 60063.389970 from DATE-END'. [astropy.wcs.wcs]\n",
      "WARNING: FITSFixedWarning: 'datfix' made the change 'Set MJD-BEG to 60063.392528 from DATE-BEG.\n",
      "Set MJD-END to 60063.393338 from DATE-END'. [astropy.wcs.wcs]\n",
      "WARNING: FITSFixedWarning: 'datfix' made the change 'Set MJD-BEG to 60063.393715 from DATE-BEG.\n",
      "Set MJD-END to 60063.394525 from DATE-END'. [astropy.wcs.wcs]\n",
      "WARNING: FITSFixedWarning: 'datfix' made the change 'Set MJD-BEG to 60063.394901 from DATE-BEG.\n",
      "Set MJD-END to 60063.395712 from DATE-END'. [astropy.wcs.wcs]\n",
      "WARNING: FITSFixedWarning: 'datfix' made the change 'Set MJD-BEG to 60063.404367 from DATE-BEG.\n",
      "Set MJD-END to 60063.407840 from DATE-END'. [astropy.wcs.wcs]\n",
      "WARNING: FITSFixedWarning: 'datfix' made the change 'Set MJD-BEG to 60063.408216 from DATE-BEG.\n",
      "Set MJD-END to 60063.411688 from DATE-END'. [astropy.wcs.wcs]\n",
      "WARNING: FITSFixedWarning: 'datfix' made the change 'Set MJD-BEG to 60063.412065 from DATE-BEG.\n",
      "Set MJD-END to 60063.415537 from DATE-END'. [astropy.wcs.wcs]\n",
      "WARNING: FITSFixedWarning: 'datfix' made the change 'Set MJD-BEG to 60063.419002 from DATE-BEG.\n",
      "Set MJD-END to 60063.421316 from DATE-END'. [astropy.wcs.wcs]\n",
      "WARNING: FITSFixedWarning: 'datfix' made the change 'Set MJD-BEG to 60063.421693 from DATE-BEG.\n",
      "Set MJD-END to 60063.424008 from DATE-END'. [astropy.wcs.wcs]\n",
      "WARNING: FITSFixedWarning: 'datfix' made the change 'Set MJD-BEG to 60063.424384 from DATE-BEG.\n",
      "Set MJD-END to 60063.426699 from DATE-END'. [astropy.wcs.wcs]\n",
      "WARNING: FITSFixedWarning: 'datfix' made the change 'Set MJD-BEG to 60063.427316 from DATE-BEG.\n",
      "Set MJD-END to 60063.428473 from DATE-END'. [astropy.wcs.wcs]\n",
      "WARNING: FITSFixedWarning: 'datfix' made the change 'Set MJD-BEG to 60063.428850 from DATE-BEG.\n",
      "Set MJD-END to 60063.430007 from DATE-END'. [astropy.wcs.wcs]\n",
      "WARNING: FITSFixedWarning: 'datfix' made the change 'Set MJD-BEG to 60063.430384 from DATE-BEG.\n",
      "Set MJD-END to 60063.431541 from DATE-END'. [astropy.wcs.wcs]\n",
      "WARNING: FITSFixedWarning: 'datfix' made the change 'Set MJD-BEG to 60063.437335 from DATE-BEG.\n",
      "Set MJD-END to 60063.439650 from DATE-END'. [astropy.wcs.wcs]\n",
      "WARNING: FITSFixedWarning: 'datfix' made the change 'Set MJD-BEG to 60063.440027 from DATE-BEG.\n",
      "Set MJD-END to 60063.442342 from DATE-END'. [astropy.wcs.wcs]\n",
      "WARNING: FITSFixedWarning: 'datfix' made the change 'Set MJD-BEG to 60063.442718 from DATE-BEG.\n",
      "Set MJD-END to 60063.445033 from DATE-END'. [astropy.wcs.wcs]\n",
      "WARNING: FITSFixedWarning: 'datfix' made the change 'Set MJD-BEG to 60063.445671 from DATE-BEG.\n",
      "Set MJD-END to 60063.447986 from DATE-END'. [astropy.wcs.wcs]\n",
      "WARNING: FITSFixedWarning: 'datfix' made the change 'Set MJD-BEG to 60063.448362 from DATE-BEG.\n",
      "Set MJD-END to 60063.450677 from DATE-END'. [astropy.wcs.wcs]\n",
      "WARNING: FITSFixedWarning: 'datfix' made the change 'Set MJD-BEG to 60063.451053 from DATE-BEG.\n",
      "Set MJD-END to 60063.453368 from DATE-END'. [astropy.wcs.wcs]\n",
      "WARNING: FITSFixedWarning: 'datfix' made the change 'Set MJD-BEG to 60063.455408 from DATE-BEG.\n",
      "Set MJD-END to 60063.455755 from DATE-END'. [astropy.wcs.wcs]\n",
      "WARNING: FITSFixedWarning: 'datfix' made the change 'Set MJD-BEG to 60063.456132 from DATE-BEG.\n",
      "Set MJD-END to 60063.456479 from DATE-END'. [astropy.wcs.wcs]\n",
      "WARNING: FITSFixedWarning: 'datfix' made the change 'Set MJD-BEG to 60063.456855 from DATE-BEG.\n",
      "Set MJD-END to 60063.457203 from DATE-END'. [astropy.wcs.wcs]\n",
      "WARNING: FITSFixedWarning: 'datfix' made the change 'Set MJD-BEG to 60063.463591 from DATE-BEG.\n",
      "Set MJD-END to 60063.463684 from DATE-END'. [astropy.wcs.wcs]\n",
      "WARNING: FITSFixedWarning: 'datfix' made the change 'Set MJD-BEG to 60063.464060 from DATE-BEG.\n",
      "Set MJD-END to 60063.464153 from DATE-END'. [astropy.wcs.wcs]\n",
      "WARNING: FITSFixedWarning: 'datfix' made the change 'Set MJD-BEG to 60063.464529 from DATE-BEG.\n",
      "Set MJD-END to 60063.464622 from DATE-END'. [astropy.wcs.wcs]\n",
      "WARNING: FITSFixedWarning: 'datfix' made the change 'Set MJD-BEG to 60063.470585 from DATE-BEG.\n",
      "Set MJD-END to 60063.471974 from DATE-END'. [astropy.wcs.wcs]\n",
      "WARNING: FITSFixedWarning: 'datfix' made the change 'Set MJD-BEG to 60063.472723 from DATE-BEG.\n",
      "Set MJD-END to 60063.474112 from DATE-END'. [astropy.wcs.wcs]\n",
      "WARNING: FITSFixedWarning: 'datfix' made the change 'Set MJD-BEG to 60063.474489 from DATE-BEG.\n",
      "Set MJD-END to 60063.475878 from DATE-END'. [astropy.wcs.wcs]\n",
      "WARNING: FITSFixedWarning: 'datfix' made the change 'Set MJD-BEG to 60063.479223 from DATE-BEG.\n",
      "Set MJD-END to 60063.480612 from DATE-END'. [astropy.wcs.wcs]\n",
      "WARNING: FITSFixedWarning: 'datfix' made the change 'Set MJD-BEG to 60063.480988 from DATE-BEG.\n",
      "Set MJD-END to 60063.482377 from DATE-END'. [astropy.wcs.wcs]\n",
      "WARNING: FITSFixedWarning: 'datfix' made the change 'Set MJD-BEG to 60063.482754 from DATE-BEG.\n",
      "Set MJD-END to 60063.484142 from DATE-END'. [astropy.wcs.wcs]\n",
      "WARNING: FITSFixedWarning: 'datfix' made the change 'Set MJD-BEG to 60063.484796 from DATE-BEG.\n",
      "Set MJD-END to 60063.486185 from DATE-END'. [astropy.wcs.wcs]\n",
      "WARNING: FITSFixedWarning: 'datfix' made the change 'Set MJD-BEG to 60063.486561 from DATE-BEG.\n",
      "Set MJD-END to 60063.487950 from DATE-END'. [astropy.wcs.wcs]\n",
      "WARNING: FITSFixedWarning: 'datfix' made the change 'Set MJD-BEG to 60063.488327 from DATE-BEG.\n",
      "Set MJD-END to 60063.489716 from DATE-END'. [astropy.wcs.wcs]\n"
     ]
    }
   ],
   "source": [
    "\n",
    "\n",
    "#https://docs.astropy.org/en/stable/io/fits/index.html\n",
    "# https://stackoverflow.com/questions/21583647/reading-headers-from-multiple-fits-file-from-the-same-directory\n",
    "\n",
    "\n",
    "directory = Path(r\"C:\\Users\\FN-2187\\StarClusters\\Nickel_fits_April28_2023\")\n",
    "\n",
    "fits_files = [f for f in directory.iterdir() if f.suffix.lower() == '.fits']\n",
    "image_data = []\n",
    "image_headers = []\n",
    "records=[]\n",
    "\n",
    "for f in fits_files:\n",
    "    with fits.open(f) as hdul:\n",
    "        data = hdul[0].data\n",
    "        header = hdul[0].header\n",
    "        wcs = WCS(header)\n",
    "\n",
    "        image_data.append(data)\n",
    "        image_headers.append(header)\n",
    "        records.append((f, data, header, wcs))"
   ]
  },
  {
   "cell_type": "code",
   "execution_count": null,
   "metadata": {},
   "outputs": [],
   "source": []
  },
  {
   "cell_type": "code",
   "execution_count": 26,
   "metadata": {},
   "outputs": [],
   "source": [
    "#https://stackoverflow.com/questions/21583647/reading-headers-from-multiple-fits-file-from-the-same-directory\n",
    "#https://www.w3schools.com/python/ref_string_startswith.asp\n",
    "\n",
    "bias = [\n",
    "    data for f, data in zip(fits_files, image_data)\n",
    "    if f.stem.startswith('d') and 100 <= int(f.stem.split('d')[-1]) <= 109\n",
    "]\n",
    "\n",
    "flatB = [\n",
    "    data for f, data in zip(fits_files, image_data)\n",
    "    if f.stem.startswith('d') and 125 <= int(f.stem.split('d')[-1]) <= 129\n",
    "]\n",
    "\n",
    "flatV = [\n",
    "    data for f, data in zip(fits_files, image_data)\n",
    "    if f.stem.startswith('d') and 130 <= int(f.stem.split('d')[-1]) <= 134\n",
    "]\n",
    "\n",
    "flatR = [\n",
    "    data for f, data in zip(fits_files, image_data)\n",
    "    if f.stem.startswith('d') and 135 <= int(f.stem.split('d')[-1]) <= 140 and int(f.stem.split('d')[-1]) != 138\n",
    "]\n",
    "\n"
   ]
  },
  {
   "cell_type": "code",
   "execution_count": null,
   "metadata": {},
   "outputs": [],
   "source": []
  },
  {
   "cell_type": "code",
   "execution_count": 27,
   "metadata": {},
   "outputs": [],
   "source": [
    "rawB = [\n",
    "    data for f, data in zip(fits_files, image_data)\n",
    "    if f.stem.startswith('d') and 158 <= int(f.stem.split('d')[-1]) <= 160\n",
    "]\n",
    "rawV = [\n",
    "    data for f, data in zip(fits_files, image_data)\n",
    "    if f.stem.startswith('d') and 161 <= int(f.stem.split('d')[-1]) <= 163\n",
    "]\n",
    "rawR = [\n",
    "    data for f, data in zip(fits_files, image_data)\n",
    "    if f.stem.startswith('d') and 164 <= int(f.stem.split('d')[-1]) <= 166  \n",
    "]"
   ]
  },
  {
   "cell_type": "code",
   "execution_count": 28,
   "metadata": {},
   "outputs": [
    {
     "name": "stdout",
     "output_type": "stream",
     "text": [
      "<class 'list'>\n"
     ]
    }
   ],
   "source": [
    "#data type dictates where the party goes\n",
    "print(type(rawB))"
   ]
  },
  {
   "cell_type": "code",
   "execution_count": 29,
   "metadata": {},
   "outputs": [],
   "source": [
    "master_bias=np.median(np.stack(bias),axis=0)\n",
    "\n",
    "def domecal(filt, bias):\n",
    "    clean = [flat - bias for flat in filt] \n",
    "    master_dome= np.mean(clean, axis=0)\n",
    "    return master_dome/np.mean(master_dome)\n",
    "\n",
    "def scical(sci, flat):\n",
    "    cleaned_images = []\n",
    "    for image in sci:\n",
    "        # Subtract bias\n",
    "        corrected = image - master_bias\n",
    "\n",
    "        # Divide by normalized flat\n",
    "        cleaned = corrected / flat\n",
    "\n",
    "        cleaned_images.append(cleaned)\n",
    "    \n",
    "    return cleaned_images"
   ]
  },
  {
   "cell_type": "code",
   "execution_count": null,
   "metadata": {},
   "outputs": [],
   "source": []
  },
  {
   "cell_type": "code",
   "execution_count": 30,
   "metadata": {},
   "outputs": [],
   "source": [
    "normB=domecal(flatB,master_bias)\n",
    "normV=domecal(flatV,master_bias)\n",
    "normR=domecal(flatR,master_bias)"
   ]
  },
  {
   "cell_type": "code",
   "execution_count": null,
   "metadata": {},
   "outputs": [],
   "source": []
  },
  {
   "cell_type": "code",
   "execution_count": 31,
   "metadata": {},
   "outputs": [
    {
     "name": "stderr",
     "output_type": "stream",
     "text": [
      "C:\\Users\\FN-2187\\AppData\\Local\\Temp\\ipykernel_10180\\2972619361.py:15: RuntimeWarning: divide by zero encountered in divide\n",
      "  cleaned = corrected / flat\n",
      "C:\\Users\\FN-2187\\AppData\\Local\\Temp\\ipykernel_10180\\2972619361.py:15: RuntimeWarning: invalid value encountered in divide\n",
      "  cleaned = corrected / flat\n"
     ]
    }
   ],
   "source": [
    "cleaned_sci_imagesB = scical(rawB, normB)\n",
    "cleaned_sci_imagesV = scical(rawV, normV)\n",
    "cleaned_sci_imagesR = scical(rawR, normR)"
   ]
  },
  {
   "cell_type": "code",
   "execution_count": 32,
   "metadata": {},
   "outputs": [],
   "source": [
    " # Clean science frames with only bias correction\n",
    "# def scical_bias_only(sci, master_bias):\n",
    "#     cleaned_images = []\n",
    "#     for image in sci:\n",
    "#         corrected = (image - master_bias).astype(np.float32)\n",
    "#         cleaned_images.append(corrected)\n",
    "#     return cleaned_images\n",
    "\n"
   ]
  },
  {
   "cell_type": "code",
   "execution_count": 33,
   "metadata": {},
   "outputs": [],
   "source": [
    "# cleaned_sci_imagesB = bias_only_scical(rawB, normdomB)\n",
    "# cleaned_sci_imagesV = bias_only_scical(rawV, normdomV)\n",
    "# cleaned_sci_imagesR = bias_only_scical(rawR, normdomR)"
   ]
  },
  {
   "cell_type": "markdown",
   "metadata": {},
   "source": [
    "# Key the data"
   ]
  },
  {
   "cell_type": "code",
   "execution_count": 34,
   "metadata": {},
   "outputs": [],
   "source": [
    "science_images = {\n",
    "    'B': cleaned_sci_imagesB,\n",
    "    'V': cleaned_sci_imagesV,\n",
    "    'R': cleaned_sci_imagesR\n",
    "}"
   ]
  },
  {
   "cell_type": "code",
   "execution_count": 35,
   "metadata": {},
   "outputs": [],
   "source": [
    "bias_headers = [\n",
    "    header for f, header in zip(fits_files, image_headers)\n",
    "    if f.stem.startswith('d') and 100 <= int(f.stem.split('d')[-1]) <= 109\n",
    "]\n",
    "flatB_header  = [\n",
    "    header for f, header in zip(fits_files, image_headers)\n",
    "    if f.stem.startswith('d') and 125 <= int(f.stem.split('d')[-1]) <= 129\n",
    "]\n",
    "flatV_header  = [\n",
    "    header for f, header in zip(fits_files, image_headers)\n",
    "    if f.stem.startswith('d') and 130 <= int(f.stem.split('d')[-1]) <= 134\n",
    "]\n",
    "flatR_header  = [\n",
    "    header for f, header in zip(fits_files, image_headers)\n",
    "    if f.stem.startswith('d') and 135 <= int(f.stem.split('d')[-1]) <= 140 and int(f.stem.split('d')[-1]) != 138\n",
    "]\n",
    "rawB_header = [\n",
    "    header for f, header in zip(fits_files, image_headers)\n",
    "    if f.stem.startswith('d') and 158 <= int(f.stem.split('d')[-1]) <= 160\n",
    "]\n",
    "rawV_header  = [\n",
    "    header for f, header in zip(fits_files, image_headers)\n",
    "    if f.stem.startswith('d') and 161 <= int(f.stem.split('d')[-1]) <= 163\n",
    "]\n",
    "rawR_header  = [\n",
    "    header for f, header in zip(fits_files, image_headers)\n",
    "    if f.stem.startswith('d') and 164 <= int(f.stem.split('d')[-1]) <= 166\n",
    "]"
   ]
  },
  {
   "cell_type": "code",
   "execution_count": 36,
   "metadata": {},
   "outputs": [],
   "source": [
    "calibB = [data for f, data in zip(fits_files, image_data) if 126 <= int(f.stem.split('d')[-1]) <= 130]\n",
    "# calibV = [data for f, data in zip(fits_files, image_data) if 131 <= int(f.stem.split('d')[-1]) <= 135]\n",
    "# calibR = [data for f, data in zip(fits_files, image_data) if 136 <= int(f.stem.split('d')[-1]) <= 140]\n",
    "\n",
    "calibB_headers = [header for f, header in zip(fits_files, image_headers) if 126 <= int(f.stem.split('d')[-1]) <= 130]\n",
    "# calibV_headers = [header for f, header in zip(fits_files, image_headers) if 131 <= int(f.stem.split('d')[-1]) <= 135]\n",
    "# calibR_headers = [header for f, header in zip(fits_files, image_headers) if 136 <= int(f.stem.split('d')[-1]) <= 140]\n",
    "\n",
    "stacked_calibB = np.median(np.stack(calibB), axis=0)\n",
    "# stacked_calibV = np.median(np.stack(calibV), axis=0)\n",
    "# stacked_calibR = np.median(np.stack(calibR), axis=0)\n"
   ]
  },
  {
   "cell_type": "code",
   "execution_count": null,
   "metadata": {},
   "outputs": [],
   "source": []
  },
  {
   "cell_type": "code",
   "execution_count": 37,
   "metadata": {},
   "outputs": [
    {
     "name": "stdout",
     "output_type": "stream",
     "text": [
      "SIMPLE  =                    T / NORMAL FITS IMAGE                              BITPIX  =                   16 / DATA PRECISION                                 NAXIS   =                    2 / NUMBER OF IMAGE DIMENSIONS                     NAXIS1  =                 1056 / NUMBER OF COLUMNS                              NAXIS2  =                 1024 / NUMBER OF ROWS                                 CRVAL1U =                 2048 / COLUMN ORIGIN                                  CRVAL2U =                 2048 / ROW ORIGIN                                     CDELT1U =                   -2 / COLUMN CHANGE PER PIXEL                        CDELT2U =                   -2 / ROW CHANGE PER PIXEL                           OBSNUM  =                  100 / OBSERVATION NUMBER                             IDNUM   =                    2 / IMAGE ID                                       UGEOM   =                    0 / UCAM READOUT GEOMETRY                          DGEOM   =                    0 / DESCRAMBLE GEOMETRY                            AMPSROW =                    1 / AMPLIFIERS PER ROW                             AMPSCOL =                    1 / AMPLIFIERS PER COLUMN                          OBSTYPE = 'DARK'               / IMAGE TYPE                                     EXPTIME =                    0 / Exp time (not counting shutter error)          BSCALE  =                    1 / DATA SCALE FACTOR                              BZERO   =                32768 / DATA ZERO POINT                                COMMENT    Real Value = FITS*BSCALE+BZERO                                       PROGRAM = 'NEWCAM'             / New Lick Camera                                VERSION = 'nickel_direct'      / Data acquisition version                       TSEC    =           1682730540 / CLOCK TICK - SECONDS                           TUSEC   =               314446 / CLOCK TICK - MICROSECONDS                      DATE    = '2023-04-29T01:09:00.31' / UT of CCD readout & descramble             DATASEC = '[1:1024,1:1024]'        / IRAF/NOAO-style data section               OUTFILE = 'd' / root name of FITS file                                          FITSFILE= '/data/d100.fits' / path name of FITS file                            COMMENT End of cards hard-coded in fits_cards                                   COMMENT Begin of cards from other times                                         CSYER2  =     0.01666669920087 / systematic error along direction of WCS axis i CSYER1  =     0.01666669920087 / systematic error along direction of WCS axis i CRDER2  =   5.139999848325E-05 / random error along direction of WCS axis i     CRDER1  =   5.139999848325E-05 / random error along direction of WCS axis i     CD2_2   =  -0.0001027239995892 / CTM element i_j from FITS axis j to WCS axis i CD2_1   =   3.946270226152E-06 / CTM element i_j from FITS axis j to WCS axis i CD1_2   =  -3.946270226152E-06 / CTM element i_j from FITS axis j to WCS axis i CD1_1   =  -0.0001027239995892 / CTM element i_j from FITS axis j to WCS axis i CRVAL2  =       39.89424514771 / coord value of WCS axis i at ref pixel         CRVAL1  =       112.5396575928 / coord value of WCS axis i at ref pixel         CRPIX2  =                  512 / reference pixel along FITS axis j              CRPIX1  =                  512 / reference pixel along FITS axis j              CUNIT2  = 'deg               ' / unit of WCS axis i                             CUNIT1  = 'deg               ' / unit of WCS axis i                             EQUINOX =                 2000 / date of celestial reference frame              RADECSYS= 'FK5               ' / reference system for celestial coordinates     CNAME2  = 'Declination       ' / name of WCS axis i                             CNAME1  = 'Right Ascension   ' / name of WCS axis i                             CTYPE2  = 'DEC--TAN          ' / type of WCS axis i                             CTYPE1  = 'RA---TAN          ' / type of WCS axis i                             WCSNAME = 'Celestial coordinates' / name of WCS                                 CRVAL2C =                 2048 / coord value of WCS axis i at ref pixel         CRVAL1C =                 2048 / coord value of WCS axis i at ref pixel         CRVAL2S =       39.89424514771 / coord value of WCS axis i at ref pixel         CRVAL1S =       112.5396575928 / coord value of WCS axis i at ref pixel         CSYER2C =                    0 / systematic error along direction of WCS axis i CSYER1C =                    0 / systematic error along direction of WCS axis i CRDER2C =                    0 / random error along direction of WCS axis i     CRDER1C =                    0 / random error along direction of WCS axis i     CD2_2C  =                   -2 / CTM element i_j from FITS axis j to WCS axis i CD2_1C  =                    0 / CTM element i_j from FITS axis j to WCS axis i CD1_2C  =                    0 / CTM element i_j from FITS axis j to WCS axis i CD1_1C  =                   -2 / CTM element i_j from FITS axis j to WCS axis i CRPIX2C =                  0.5 / reference pixel along FITS axis j              CRPIX1C =                  0.5 / reference pixel along FITS axis j              CUNIT2C = 'CCDpix            ' / unit of WCS axis i                             CUNIT1C = 'CCDpix            ' / unit of WCS axis i                             CNAME2C = 'CCD Y pixel       ' / name of WCS axis i                             CNAME1C = 'CCD X pixel       ' / name of WCS axis i                             CTYPE2C = 'linear            ' / type of WCS axis i                             CTYPE1C = 'linear            ' / type of WCS axis i                             WCSNAMEC= 'CCD pixel coordinates' / name of WCS                                 CSYER2S =     0.01666669920087 / systematic error along direction of WCS axis i CSYER1S =     0.01666669920087 / systematic error along direction of WCS axis i CRDER2S =   5.139999848325E-05 / random error along direction of WCS axis i     CRDER1S =   5.139999848325E-05 / random error along direction of WCS axis i     CD2_2S  =  -0.0001027239995892 / CTM element i_j from FITS axis j to WCS axis i CD2_1S  =   3.946270226152E-06 / CTM element i_j from FITS axis j to WCS axis i CD1_2S  =  -3.946270226152E-06 / CTM element i_j from FITS axis j to WCS axis i CD1_1S  =  -0.0001027239995892 / CTM element i_j from FITS axis j to WCS axis i CRPIX2S =                  512 / reference pixel along FITS axis j              CRPIX1S =                  512 / reference pixel along FITS axis j              CUNIT2S = 'deg               ' / unit of WCS axis i                             CUNIT1S = 'deg               ' / unit of WCS axis i                             EQUINOXS=                 2000 / date of celestial reference frame              RADESYSS= 'FK5               ' / reference system for celestial coordinates     CNAME2S = 'Declination       ' / name of WCS axis i                             CNAME1S = 'Right Ascension   ' / name of WCS axis i                             CTYPE2S = 'DEC--TAN          ' / type of WCS axis i                             CTYPE1S = 'RA---TAN          ' / type of WCS axis i                             WCSNAMES= 'Celestial coordinates' / name of WCS                                 AIRMASS =       1.001921892166 / AIRMASS AT START OF OBSERVATION                OWNRNOTE= 'notyetset         ' / OWNRNOTE for archive data                      OWNRHINT= 'notyetset         ' / OWNRHINT for archive data                      HA      = '-0:02:07.30       ' / HOUR ANGLE                                     DEC     = '39:53:39.5        ' / DECLINATION                                    RA      = '07:30:17.28       ' / RIGHT ASCENSION                                OBSERVER= 'Olivier Hervet    ' / OBSERVER NAME                                  APERNAM = 'Open              ' / APERTURE POSITION NAME                         INSTRUME= 'Nickel Direct Camera'                                                TUB     =                    0 / TELESCOPE TUB ROTATION                         APERRAW =                 1250 / APERTURE RAW POSITION                          FILTRAW =                 1893 / FILTER RAW POSITION                            FILTORD =                    1 / FILTER ORDINAL POSITION                        APERORD =                    0 / APERTURE ORDINAL POSITION                      FILTNAM = 'B                 ' / FILTER POSITION NAME                           GEOMCODE=                    0 / READOUT GEOMETRY                               DSENSOR = 'Loral 2Kx2K       ' / SENSOR DESCRIPTION                             DNAXIS2 =                 2048 / ROWS IN SENSOR                                 DNAXIS1 =                 2048 / COLUMNS IN SENSOR                              UCAMADC = '4-amp QADC        ' / UCAM ADC BOARDS                                UCAMCDB = 'Old CDB?          ' / UCAM CDB BOARDS                                CAMERAID=                    2 / CAMERA ID NUMBER                               UCAMSPB = '2 DSPB            ' / UCAM SPB BOARDS                                UCAMSOFT= '4.08 052011       ' / UCAM SOFTWARE VERSION                          UCAMTIM = 'New Timing        ' / UCAM TIMING BOARDS                             ERPBIN  =                    5 / PARALLEL BINNING DURING ERASE                  ERASE   =                    3 / NUMBER OF ERASES                               PSKIP   =                    0 / CONTROLS POST-IMAGE SKIPPING                   CSMP    =                    1 / DCS CAP SELECTION                              CSELPRD =                    0 / PREREAD CLOCK SELECTION                        SCLEAN  =                    0 / SERIAL CLEANING CLOCK SELECTION                BINPRD  =                    0 / PREREAD SERIAL BINNING                         BINSCLN =                    0 / BINNING FOR SERIAL CLEAN                       PPRERD  =                    4 / PRE-IMAGE ROWS                                 PFREQ   =                    1 / PARALLEL CLOCK PERIOD                          PADDC   =                    0 / PARALLEL CLOCK CAPACITOR SELECTION             NSTIME  =                   32 / CONTROLS RISING TIME FOR SUBSTRATE             VSUBEX  =                    0 / SUBSTRATE VOLTAGE DURING EXPOSURE              VSUBER  =                    0 / SUBSTRATE VOLTAGE DURING ERASE                 NHBESP  =                   32 / BINNING FOR SPECIAL ERASE                      MERSP   =                    0 / CONTROLS SPECIAL ERASE MODE                    TCPR1   =                    4 / PRE-IMAGE SERIAL PIXELS                        TSPRD   =                   40 / SAMPLE TIME IN 0.1 MICROSECOND UNITS           TSCLEAN =                   40 / SERIAL CLEAN SAMPLE TIME                       SFREQ   =                    2 / SERIAL CLOCK PERIOD                            SADDC   =                    2 / SERIAL CLOCK CAP SELECTION                     REVERASE=                    0 / NUMBER OF REVERSE ERASES                       TCPR2   =                    4 / POST-IMAGE SERIAL PIXELS BEFORE OVERSCAN       DATE-BEG= '2023-04-29T01:09:00.01' / START OF OBSERVATION                       EQUINOXU=       2023.319946289 / EPOCH FOR POCO POSITION IS CURRENT DATE        DATE-END= '2023-04-29T01:09:00.03' / END OF OBSERVATION                         GAIN    =                    1 / DCS GAIN INDEX                                 TEMPCON =       24.29999923706 / CONTROLLER TEMPERATURE                         NCSHIFT =                    0 / NUMBER OF CHARGE SHUFFLES                      RCSHIFT =                    0 / NUMBER OF ROWS IN EACH CHARGE SHUFFLE          ROVER   =                    0 / NUMBER OF OVERSCAN ROWS                        COVER   =                   32 / NUMBER OF OVERSCAN COLUMNS                     MPP     =                    1 / MPP STATE                                      TEMPDET =                 -110 / EXPOSURE START DETECTOR TEMPERATURE            TEMPDETE=                    0 / EXPOSURE END DETECTOR TEMPERATURE              READ-SPD=                   80 / DCS READ SPEED                                 OBJECT  = 'Bias              '                                                  CKSUMOK =                    T / cd: CHECKSUMS MATCH                            CAMCKSUM=                55962 / cd: CAMERA-COMPUTED CHECKSUM                   SFTCKSUM=                55962 / cd: SOFTWARE-COMPUTED CHECKSUM                 COMMENT End of cards from other times                                           END                                                                                                                                                                                                                                                                                                                                                                                                                                                                                                                                                                                                                                                                                                                                                                                                                                                                                                                                                                                                                                                                                                                                                                                                                                                                                                                                                                                                                                                                                                                                                                                                                                                                                                                                                                                                                                                                                                             \n"
     ]
    }
   ],
   "source": [
    "print(image_headers[0])"
   ]
  },
  {
   "cell_type": "code",
   "execution_count": 38,
   "metadata": {},
   "outputs": [],
   "source": [
    "ref_wcs = WCS(rawB_header[0]) # or rawB_header[0]\n",
    "\n",
    "def align_stack(cleaned_images, headers):\n",
    "    aligned = []\n",
    "    for img, hdr in zip(cleaned_images, headers):\n",
    "        array, _ = reproject_interp((img, WCS(hdr)), ref_wcs)\n",
    "        aligned.append(array)\n",
    "    return np.median(np.stack(aligned), axis=0)\n",
    "\n",
    "stacked_B = align_stack(cleaned_sci_imagesB, rawB_header)\n",
    "stacked_V = align_stack(cleaned_sci_imagesV, rawV_header)\n",
    "stacked_R = align_stack(cleaned_sci_imagesR, rawR_header)\n",
    "\n"
   ]
  },
  {
   "cell_type": "code",
   "execution_count": 39,
   "metadata": {},
   "outputs": [],
   "source": [
    "from photutils.aperture import CircularAperture, EllipticalAperture, aperture_photometry\n",
    "\n",
    "def photometry(data, thresh=1.0, minarea=10, use_elliptical=True, flux_percentile_cut=20):\n",
    "    import numpy as np\n",
    "    import sep\n",
    "    from photutils.aperture import CircularAperture, EllipticalAperture, ApertureStats\n",
    "    from astropy.table import Table\n",
    "\n",
    "    # Ensure proper dtype and byte order\n",
    "    data = np.nan_to_num(data.astype(np.float32))\n",
    "    if data.dtype.byteorder not in ('=', '|'):\n",
    "        data = data.astype(data.dtype.newbyteorder('='))\n",
    "\n",
    "    # Background subtraction\n",
    "    bkg = sep.Background(data)\n",
    "    data_sub = data - bkg.back()\n",
    "\n",
    "    # Increase limits for crowded fields\n",
    "    sep.set_extract_pixstack(1000000)\n",
    "    sep.set_sub_object_limit(10000)\n",
    "\n",
    "    # Source extraction\n",
    "    objects = sep.extract(data_sub, thresh=thresh, minarea=minarea)\n",
    "    if len(objects) == 0:\n",
    "        raise ValueError(\"No sources found in image.\")\n",
    "\n",
    "    # Position arrays\n",
    "    x = objects['x'].astype(float)\n",
    "    y = objects['y'].astype(float)\n",
    "    positions = np.column_stack((x, y))\n",
    "\n",
    "    phot_table = Table()\n",
    "    phot_table['xcenter'] = x\n",
    "    phot_table['ycenter'] = y\n",
    "\n",
    "    if use_elliptical:\n",
    "        a = objects['a'].astype(float) * 2.0\n",
    "        b = objects['b'].astype(float) * 2.0\n",
    "        theta = objects['theta'].astype(float)\n",
    "\n",
    "        apertures = [EllipticalAperture((x[i], y[i]), a[i], b[i], theta[i]) for i in range(len(x))]\n",
    "        stats = [ApertureStats(data_sub, ap) for ap in apertures]\n",
    "        fluxes = [s.sum for s in stats]\n",
    "        errors = [s.sum_err for s in stats]\n",
    "\n",
    "        phot_table['aperture_sum'] = fluxes\n",
    "        phot_table['flux_err'] = errors\n",
    "\n",
    "        # Optional: Filter out faintest sources\n",
    "        if flux_percentile_cut is not None:\n",
    "            threshold = np.percentile(fluxes, flux_percentile_cut)\n",
    "            mask = np.array(fluxes) > threshold\n",
    "            phot_table = phot_table[mask]\n",
    "\n",
    "    else:\n",
    "        apertures = CircularAperture(positions, r=3.0)\n",
    "        phot_table = aperture_photometry(data_sub, apertures)\n",
    "        phot_table['xcenter'] = x\n",
    "        phot_table['ycenter'] = y\n",
    "\n",
    "    return phot_table, objects\n",
    "\n"
   ]
  },
  {
   "cell_type": "code",
   "execution_count": 40,
   "metadata": {},
   "outputs": [],
   "source": [
    "phot_tableB, objectsB = photometry(stacked_B, use_elliptical=True)\n",
    "phot_tableV, objectsV = photometry(stacked_V, use_elliptical=True)\n",
    "phot_tableR, objectsR = photometry(stacked_R, use_elliptical=True)\n"
   ]
  },
  {
   "cell_type": "code",
   "execution_count": 41,
   "metadata": {},
   "outputs": [
    {
     "name": "stdout",
     "output_type": "stream",
     "text": [
      "1659\n"
     ]
    }
   ],
   "source": [
    "print(len(phot_tableB))\n"
   ]
  },
  {
   "cell_type": "code",
   "execution_count": 42,
   "metadata": {},
   "outputs": [],
   "source": [
    "from scipy.spatial import cKDTree\n",
    "\n",
    "# Extract coordinates from photometry tables\n",
    "coords_B = np.column_stack((phot_tableB['xcenter'], phot_tableB['ycenter']))\n",
    "coords_V = np.column_stack((phot_tableV['xcenter'], phot_tableV['ycenter']))\n",
    "coords_R = np.column_stack((phot_tableR['xcenter'], phot_tableR['ycenter']))\n",
    "\n",
    "# Build KD-trees\n",
    "tree_V = cKDTree(coords_V)\n",
    "tree_R = cKDTree(coords_R)\n",
    "\n",
    "# Match B to V and B to R\n",
    "max_sep = 3.0  # pixel distance tolerance for matching\n",
    "\n",
    "dist_BV, idx_BV = tree_V.query(coords_B, distance_upper_bound=max_sep)\n",
    "dist_BR, idx_BR = tree_R.query(coords_B, distance_upper_bound=max_sep)\n",
    "\n",
    "# Only keep good matches (where distance is below threshold)\n",
    "valid_BV = dist_BV < max_sep\n",
    "valid_BR = dist_BR < max_sep\n",
    "valid_all = valid_BV & valid_BR\n",
    "\n",
    "# Final matched indices\n",
    "idx_B = np.where(valid_all)[0]\n",
    "idx_V = idx_BV[valid_all]\n",
    "idx_R = idx_BR[valid_all]\n"
   ]
  },
  {
   "cell_type": "code",
   "execution_count": null,
   "metadata": {},
   "outputs": [],
   "source": []
  },
  {
   "cell_type": "code",
   "execution_count": 43,
   "metadata": {},
   "outputs": [],
   "source": [
    "matched_B = phot_tableB[idx_B]\n",
    "matched_V = phot_tableV[idx_V]\n",
    "matched_R = phot_tableR[idx_R]\n",
    "\n",
    "combined_catalog = pd.DataFrame({\n",
    "    'x': matched_B['xcenter'],\n",
    "    'y': matched_B['ycenter'],\n",
    "    'flux_B': matched_B['aperture_sum'],\n",
    "    'flux_V': matched_V['aperture_sum'],\n",
    "    'flux_R': matched_R['aperture_sum']\n",
    "})\n"
   ]
  },
  {
   "cell_type": "code",
   "execution_count": null,
   "metadata": {},
   "outputs": [],
   "source": []
  },
  {
   "cell_type": "code",
   "execution_count": 44,
   "metadata": {},
   "outputs": [],
   "source": [
    "# Exposure times (in seconds)\n",
    "exp_B = 400\n",
    "exp_V = 400\n",
    "exp_R = 200\n",
    "\n",
    "# Convert flux to instrumental magnitudes\n",
    "mag_B = -2.5 * np.log10(combined_catalog['flux_B']) + 2.5 * np.log10(exp_B)\n",
    "mag_V = -2.5 * np.log10(combined_catalog['flux_V']) + 2.5 * np.log10(exp_V)\n",
    "mag_R = -2.5 * np.log10(combined_catalog['flux_R']) + 2.5 * np.log10(exp_R)\n"
   ]
  },
  {
   "cell_type": "code",
   "execution_count": null,
   "metadata": {},
   "outputs": [],
   "source": []
  },
  {
   "cell_type": "code",
   "execution_count": 45,
   "metadata": {},
   "outputs": [],
   "source": [
    "combined_catalog['mag_B'] = mag_B\n",
    "combined_catalog['mag_V'] = mag_V\n",
    "combined_catalog['mag_R'] = mag_R\n",
    "combined_catalog['B-V'] = mag_B - mag_V\n",
    "combined_catalog['V-R'] = mag_V - mag_R\n"
   ]
  },
  {
   "cell_type": "code",
   "execution_count": null,
   "metadata": {},
   "outputs": [],
   "source": []
  },
  {
   "cell_type": "code",
   "execution_count": 46,
   "metadata": {},
   "outputs": [],
   "source": [
    "airmasses_B = [hdr.get('AIRMASS') for hdr in rawB_header]\n",
    "airmasses_V = [hdr.get('AIRMASS') for hdr in rawV_header]\n",
    "airmasses_R = [hdr.get('AIRMASS') for hdr in rawR_header]\n",
    "\n",
    "X_B = np.mean([hdr.get('AIRMASS') for hdr in rawB_header])\n",
    "X_V = np.mean([hdr.get('AIRMASS') for hdr in rawV_header])\n",
    "X_R = np.mean([hdr.get('AIRMASS') for hdr in rawR_header])\n",
    "\n",
    "\n"
   ]
  },
  {
   "cell_type": "code",
   "execution_count": null,
   "metadata": {},
   "outputs": [],
   "source": []
  },
  {
   "cell_type": "code",
   "execution_count": 47,
   "metadata": {},
   "outputs": [],
   "source": [
    "valid_flux_mask = (\n",
    "    (combined_catalog['flux_B'] > 0) &\n",
    "    (combined_catalog['flux_V'] > 0) &\n",
    "    (combined_catalog['flux_R'] > 0)\n",
    ")\n",
    "clean_catalog = combined_catalog[valid_flux_mask]\n"
   ]
  },
  {
   "cell_type": "code",
   "execution_count": 48,
   "metadata": {},
   "outputs": [],
   "source": [
    "X_B = np.mean([h.get('AIRMASS') for h in rawB_header if h.get('AIRMASS')])\n",
    "X_V = np.mean([h.get('AIRMASS') for h in rawV_header if h.get('AIRMASS')])\n",
    "X_R = np.mean([h.get('AIRMASS') for h in rawR_header if h.get('AIRMASS')])\n"
   ]
  },
  {
   "cell_type": "code",
   "execution_count": 49,
   "metadata": {},
   "outputs": [],
   "source": [
    "k_B, k_V, k_R = 0.25, 0.15, 0.10  # from Lick table\n",
    "\n",
    "m_atm_ext_B = k_B * X_B\n",
    "m_atm_ext_V = k_V * X_V\n",
    "m_atm_ext_R = k_R * X_R\n",
    "\n",
    "\n",
    "A_V = 0.20  # from Dust_map.py\n",
    "A_B = 1.32 * A_V\n",
    "A_R = 0.81 * A_V\n"
   ]
  },
  {
   "cell_type": "code",
   "execution_count": null,
   "metadata": {},
   "outputs": [],
   "source": []
  },
  {
   "cell_type": "code",
   "execution_count": 50,
   "metadata": {},
   "outputs": [],
   "source": [
    "flux_B = clean_catalog['flux_B']\n",
    "flux_V = clean_catalog['flux_V']\n",
    "flux_R = clean_catalog['flux_R']\n",
    "\n",
    "mag_B_corr = -2.5 * np.log10(flux_B) - m_atm_ext_B - A_B\n",
    "mag_V_corr = -2.5 * np.log10(flux_V) - m_atm_ext_V - A_V\n",
    "mag_R_corr = -2.5 * np.log10(flux_R) - m_atm_ext_R - A_R\n"
   ]
  },
  {
   "cell_type": "code",
   "execution_count": 51,
   "metadata": {},
   "outputs": [],
   "source": [
    "color_BV = mag_B_corr - mag_V_corr\n",
    "color_VR = mag_V_corr - mag_R_corr\n"
   ]
  },
  {
   "cell_type": "code",
   "execution_count": 52,
   "metadata": {},
   "outputs": [],
   "source": [
    "clean_catalog['mag_B_corr'] = mag_B_corr\n",
    "clean_catalog['mag_V_corr'] = mag_V_corr\n",
    "clean_catalog['mag_R_corr'] = mag_R_corr\n",
    "clean_catalog['B-V'] = color_BV\n",
    "clean_catalog['V-R'] = color_VR\n"
   ]
  },
  {
   "cell_type": "code",
   "execution_count": 53,
   "metadata": {},
   "outputs": [
    {
     "data": {
      "image/png": "[encoded data removed]",
      "text/plain": [
       "<Figure size 800x600 with 1 Axes>"
      ]
     },
     "metadata": {},
     "output_type": "display_data"
    }
   ],
   "source": [
    "import matplotlib.pyplot as plt\n",
    "\n",
    "plt.figure(figsize=(8, 6))\n",
    "plt.scatter(combined_catalog['B-V'], combined_catalog['mag_V'], s=5, color='black')\n",
    "plt.gca().invert_yaxis()\n",
    "plt.xlabel('B − V (color)')\n",
    "plt.ylabel('V magnitude')\n",
    "plt.title('Color-Magnitude Diagram (CMD)')\n",
    "plt.grid(True)\n",
    "plt.tight_layout()\n",
    "plt.show()\n"
   ]
  },
  {
   "cell_type": "code",
   "execution_count": 54,
   "metadata": {},
   "outputs": [
    {
     "data": {
      "text/html": [
       "<div>\n",
       "<style scoped>\n",
       "    .dataframe tbody tr th:only-of-type {\n",
       "        vertical-align: middle;\n",
       "    }\n",
       "\n",
       "    .dataframe tbody tr th {\n",
       "        vertical-align: top;\n",
       "    }\n",
       "\n",
       "    .dataframe thead th {\n",
       "        text-align: right;\n",
       "    }\n",
       "</style>\n",
       "<table border=\"1\" class=\"dataframe\">\n",
       "  <thead>\n",
       "    <tr style=\"text-align: right;\">\n",
       "      <th></th>\n",
       "      <th>mag_B_corr</th>\n",
       "      <th>mag_V_corr</th>\n",
       "      <th>mag_R_corr</th>\n",
       "      <th>B-V</th>\n",
       "      <th>V-R</th>\n",
       "    </tr>\n",
       "  </thead>\n",
       "  <tbody>\n",
       "    <tr>\n",
       "      <th>0</th>\n",
       "      <td>-5.665194</td>\n",
       "      <td>-6.947262</td>\n",
       "      <td>-5.756064</td>\n",
       "      <td>1.282069</td>\n",
       "      <td>-1.191199</td>\n",
       "    </tr>\n",
       "    <tr>\n",
       "      <th>1</th>\n",
       "      <td>-6.358399</td>\n",
       "      <td>-7.052600</td>\n",
       "      <td>-6.154450</td>\n",
       "      <td>0.694201</td>\n",
       "      <td>-0.898150</td>\n",
       "    </tr>\n",
       "    <tr>\n",
       "      <th>2</th>\n",
       "      <td>-12.362200</td>\n",
       "      <td>-12.511423</td>\n",
       "      <td>-12.089883</td>\n",
       "      <td>0.149223</td>\n",
       "      <td>-0.421540</td>\n",
       "    </tr>\n",
       "    <tr>\n",
       "      <th>3</th>\n",
       "      <td>-9.852801</td>\n",
       "      <td>-10.358173</td>\n",
       "      <td>-10.524446</td>\n",
       "      <td>0.505372</td>\n",
       "      <td>0.166273</td>\n",
       "    </tr>\n",
       "    <tr>\n",
       "      <th>4</th>\n",
       "      <td>-8.686281</td>\n",
       "      <td>-8.970224</td>\n",
       "      <td>-8.992203</td>\n",
       "      <td>0.283943</td>\n",
       "      <td>0.021979</td>\n",
       "    </tr>\n",
       "  </tbody>\n",
       "</table>\n",
       "</div>"
      ],
      "text/plain": [
       "   mag_B_corr  mag_V_corr  mag_R_corr       B-V       V-R\n",
       "0   -5.665194   -6.947262   -5.756064  1.282069 -1.191199\n",
       "1   -6.358399   -7.052600   -6.154450  0.694201 -0.898150\n",
       "2  -12.362200  -12.511423  -12.089883  0.149223 -0.421540\n",
       "3   -9.852801  -10.358173  -10.524446  0.505372  0.166273\n",
       "4   -8.686281   -8.970224   -8.992203  0.283943  0.021979"
      ]
     },
     "execution_count": 54,
     "metadata": {},
     "output_type": "execute_result"
    }
   ],
   "source": [
    "clean_catalog[['mag_B_corr', 'mag_V_corr', 'mag_R_corr', 'B-V', 'V-R']].head()\n"
   ]
  },
  {
   "cell_type": "code",
   "execution_count": null,
   "metadata": {},
   "outputs": [],
   "source": []
  },
  {
   "cell_type": "code",
   "execution_count": 55,
   "metadata": {},
   "outputs": [],
   "source": [
    "import pandas as pd\n",
    "import gzip\n",
    "\n",
    "isochrone_file = 'isoc_z019.dat.gz'\n",
    "\n",
    "# Read gzipped isochrone file\n",
    "with gzip.open(isochrone_file, 'rt') as f:\n",
    "    lines = f.readlines()\n",
    "\n",
    "# Extract only the rows containing actual data (skip headers)\n",
    "data_lines = [line for line in lines if not line.startswith('#') and len(line.strip().split()) > 5]\n",
    "\n",
    "# Convert to DataFrame\n",
    "columns = ['Z', 'logAge', 'Mini', 'Mass', 'Teff', 'logL', 'logg', 'Mbol', 'UBmag', 'Bmag', 'Vmag', 'Rmag', 'Imag', 'Jmag', 'Hmag', 'Kmag']\n",
    "iso_data = pd.DataFrame([list(map(float, line.strip().split())) for line in data_lines], columns=columns)\n"
   ]
  },
  {
   "cell_type": "code",
   "execution_count": 56,
   "metadata": {},
   "outputs": [],
   "source": [
    "age_target = 9.0  # log(age/yr) = 9.0 → ~1 Gyr\n",
    "iso_slice = iso_data[np.isclose(iso_data['logAge'], age_target, atol=0.01)]\n"
   ]
  },
  {
   "cell_type": "code",
   "execution_count": 57,
   "metadata": {},
   "outputs": [],
   "source": [
    "\n",
    "distance_modulus = 14.5  # e.g. ~8 kpc\n",
    "mag_V_shifted = clean_catalog['mag_V_corr'] + distance_modulus\n",
    "\n",
    "# Correct isochrone mags\n",
    "color_iso = (iso_slice['Bmag'] + A_B) - (iso_slice['Vmag'] + A_V)\n",
    "mag_iso = iso_slice['Vmag'] + A_V + distance_modulus\n"
   ]
  },
  {
   "cell_type": "code",
   "execution_count": 58,
   "metadata": {},
   "outputs": [
    {
     "data": {
      "image/png": "[encoded data removed]",
      "text/plain": [
       "<Figure size 800x600 with 1 Axes>"
      ]
     },
     "metadata": {},
     "output_type": "display_data"
    }
   ],
   "source": [
    "plt.figure(figsize=(8, 6))\n",
    "plt.scatter(clean_catalog['B-V'], mag_V_shifted, s=5, color='black', label='Cluster Stars')\n",
    "plt.plot(color_iso, mag_iso, color='red', lw=2, label=f'Isochrone log(age)={age_target}')\n",
    "plt.gca().invert_yaxis()\n",
    "plt.xlabel('B − V')\n",
    "plt.ylabel('V magnitude (apparent)')\n",
    "plt.title('CMD with Isochrone Overlay')\n",
    "plt.legend()\n",
    "plt.grid(True)\n",
    "plt.tight_layout()\n",
    "plt.show()\n"
   ]
  },
  {
   "cell_type": "code",
   "execution_count": 59,
   "metadata": {},
   "outputs": [
    {
     "data": {
      "image/png": "[encoded data removed]",
      "text/plain": [
       "<Figure size 800x800 with 1 Axes>"
      ]
     },
     "metadata": {},
     "output_type": "display_data"
    }
   ],
   "source": [
    "ages_to_plot = [8.5, 9.0, 9.5]  # log(age/yr)\n",
    "colors = ['red', 'green', 'blue']\n",
    "\n",
    "plt.figure(figsize=(8, 8))\n",
    "\n",
    "# Plot CMD stars\n",
    "plt.scatter(clean_catalog['B-V'], mag_V_shifted, s=5, color='black', label='Cluster stars')\n",
    "\n",
    "# Overlay each isochrone\n",
    "for age, color in zip(ages_to_plot, colors):\n",
    "    iso_slice = iso_data[np.isclose(iso_data['logAge'], age, atol=0.01)]\n",
    "    color_iso = (iso_slice['Bmag'] + A_B) - (iso_slice['Vmag'] + A_V)\n",
    "    mag_iso = iso_slice['Vmag'] + A_V + distance_modulus\n",
    "    plt.plot(color_iso, mag_iso, color=color, lw=2, label=f\"log(age)={age}\")\n",
    "\n",
    "plt.gca().invert_yaxis()\n",
    "plt.xlabel(\"B − V\")\n",
    "plt.ylabel(\"V magnitude (apparent)\")\n",
    "plt.title(\"CMD with Multiple Isochrone Overlays\")\n",
    "plt.legend()\n",
    "plt.grid(True)\n",
    "plt.tight_layout()\n",
    "plt.show()\n",
    "\n",
    "\n"
   ]
  },
  {
   "cell_type": "code",
   "execution_count": null,
   "metadata": {},
   "outputs": [],
   "source": []
  },
  {
   "cell_type": "code",
   "execution_count": null,
   "metadata": {},
   "outputs": [],
   "source": []
  },
  {
   "cell_type": "code",
   "execution_count": null,
   "metadata": {},
   "outputs": [],
   "source": []
  },
  {
   "cell_type": "code",
   "execution_count": 60,
   "metadata": {},
   "outputs": [],
   "source": [
    "# data = stacked_B.astype(np.float32)\n",
    "# data = np.nan_to_num(data)\n",
    "# bkg = sep.Background(data)\n",
    "# data_sub = data - bkg.back()\n",
    "\n",
    "# plt.imshow(data_sub, cmap='gray', origin='lower', vmin=np.percentile(data_sub, 5), vmax=np.percentile(data_sub, 99))\n",
    "# plt.title(\"Background-subtracted stacked_B\")\n",
    "# plt.colorbar()\n",
    "# plt.show()\n"
   ]
  },
  {
   "cell_type": "code",
   "execution_count": null,
   "metadata": {},
   "outputs": [],
   "source": []
  },
  {
   "cell_type": "code",
   "execution_count": null,
   "metadata": {},
   "outputs": [],
   "source": []
  },
  {
   "cell_type": "code",
   "execution_count": null,
   "metadata": {},
   "outputs": [],
   "source": []
  },
  {
   "cell_type": "code",
   "execution_count": null,
   "metadata": {},
   "outputs": [],
   "source": []
  },
  {
   "cell_type": "code",
   "execution_count": null,
   "metadata": {},
   "outputs": [],
   "source": []
  },
  {
   "cell_type": "code",
   "execution_count": null,
   "metadata": {},
   "outputs": [],
   "source": []
  },
  {
   "cell_type": "code",
   "execution_count": null,
   "metadata": {},
   "outputs": [],
   "source": []
  },
  {
   "cell_type": "code",
   "execution_count": null,
   "metadata": {},
   "outputs": [],
   "source": []
  },
  {
   "cell_type": "code",
   "execution_count": null,
   "metadata": {},
   "outputs": [],
   "source": []
  },
  {
   "cell_type": "code",
   "execution_count": null,
   "metadata": {},
   "outputs": [],
   "source": []
  },
  {
   "cell_type": "code",
   "execution_count": null,
   "metadata": {},
   "outputs": [],
   "source": []
  },
  {
   "cell_type": "code",
   "execution_count": null,
   "metadata": {},
   "outputs": [],
   "source": []
  },
  {
   "cell_type": "code",
   "execution_count": null,
   "metadata": {},
   "outputs": [],
   "source": []
  }
 ],
 "metadata": {
  "kernelspec": {
   "display_name": "Python 3 (ipykernel)",
   "language": "python",
   "name": "python3"
  },
  "language_info": {
   "codemirror_mode": {
    "name": "ipython",
    "version": 3
   },
   "file_extension": ".py",
   "mimetype": "text/x-python",
   "name": "python",
   "nbconvert_exporter": "python",
   "pygments_lexer": "ipython3",
   "version": "3.12.6"
  }
 },
 "nbformat": 4,
 "nbformat_minor": 4
}
